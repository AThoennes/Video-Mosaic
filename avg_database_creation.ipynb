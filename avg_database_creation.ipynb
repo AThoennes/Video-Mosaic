{
 "cells": [
  {
   "cell_type": "code",
   "execution_count": 55,
   "id": "09c83b37-e658-4cfb-93cd-73485c1c67b9",
   "metadata": {},
   "outputs": [],
   "source": [
    "import os\n",
    "from PIL import Image\n",
    "import cv2\n",
    "import numpy as np\n",
    "import pandas as pd\n",
    "import pickle\n",
    "from tensorflow import keras"
   ]
  },
  {
   "cell_type": "code",
   "execution_count": 36,
   "id": "3f8483f2-68dd-4f49-980d-9cc8defadb35",
   "metadata": {
    "tags": []
   },
   "outputs": [
    {
     "data": {
      "text/html": [
       "<div>\n",
       "<style scoped>\n",
       "    .dataframe tbody tr th:only-of-type {\n",
       "        vertical-align: middle;\n",
       "    }\n",
       "\n",
       "    .dataframe tbody tr th {\n",
       "        vertical-align: top;\n",
       "    }\n",
       "\n",
       "    .dataframe thead th {\n",
       "        text-align: right;\n",
       "    }\n",
       "</style>\n",
       "<table border=\"1\" class=\"dataframe\">\n",
       "  <thead>\n",
       "    <tr style=\"text-align: right;\">\n",
       "      <th></th>\n",
       "      <th>Filename</th>\n",
       "      <th>R Average</th>\n",
       "      <th>G Average</th>\n",
       "      <th>B Average</th>\n",
       "    </tr>\n",
       "  </thead>\n",
       "  <tbody>\n",
       "    <tr>\n",
       "      <th>0</th>\n",
       "      <td></td>\n",
       "      <td></td>\n",
       "      <td></td>\n",
       "      <td></td>\n",
       "    </tr>\n",
       "  </tbody>\n",
       "</table>\n",
       "</div>"
      ],
      "text/plain": [
       "  Filename R Average G Average B Average\n",
       "0                                       "
      ]
     },
     "execution_count": 36,
     "metadata": {},
     "output_type": "execute_result"
    }
   ],
   "source": [
    "# creates the dataframe\n",
    "avg_df = pd.DataFrame()\n",
    "empty_df = {'Filename':'', 'R Average':'', 'G Average':'', 'B Average':''}\n",
    "avg_df = avg_df.append(empty_df, ignore_index=True)\n",
    "avg_df = avg_df.reindex(columns=['Filename','R Average', 'G Average','B Average'])\n",
    "avg_df"
   ]
  },
  {
   "cell_type": "code",
   "execution_count": 37,
   "id": "bfc6a4cc-bd85-4e09-93a2-e209ed21efa5",
   "metadata": {},
   "outputs": [],
   "source": [
    "# opencv reads grayscale images as 3 channels and copies the first layer twice\n",
    "def is_grayscale(r, g, b):\n",
    "    return b.all() == g.all() and b.all() == r.all()"
   ]
  },
  {
   "cell_type": "code",
   "execution_count": 53,
   "id": "a012b218-ca02-4fb5-b161-352d9e49252c",
   "metadata": {},
   "outputs": [],
   "source": [
    "def parse_visual_genome(avg_df):\n",
    "    # read in all images and calculate the average RGB\n",
    "    data_path = 'data/images/'\n",
    "\n",
    "    for image in os.listdir(data_path):\n",
    "            full_path = data_path + image\n",
    "            img = cv2.imread(full_path)\n",
    "            if img is not None:\n",
    "                b,g,r = cv2.split(img)\n",
    "                if not is_grayscale(r, g, b):\n",
    "                    avg_dict = {'Filename':image, 'R Average':np.mean(r), 'G Average':np.mean(g), 'B Average':np.mean(b)}\n",
    "                    avg_df = avg_df.append(avg_dict, ignore_index=True)\n",
    "\n",
    "    return avg_df"
   ]
  },
  {
   "cell_type": "code",
   "execution_count": 54,
   "id": "2c11540f-16ec-427c-b77c-6d4e50bbfbcb",
   "metadata": {},
   "outputs": [],
   "source": [
    "def parse_cifar_100(avg_df, images, file_prefix, ext):\n",
    "    # data_size = images.shape[0]\n",
    "    img_idx = 0\n",
    "    \n",
    "    for image in images:\n",
    "        # get file name\n",
    "        filename = file_prefix+str(img_idx)+ext\n",
    "        # save cifar img\n",
    "        pil_img = Image.fromarray(np.uint8(image))\n",
    "        pil_img.save('data/images/'+filename)\n",
    "        \n",
    "        # obtain channels\n",
    "        r,g,b = pil_img.split()\n",
    "        \n",
    "        # calculate and save avgs\n",
    "        avg_dict = {'Filename':filename, 'R Average':np.mean(r), 'G Average':np.mean(g), 'B Average':np.mean(b)}\n",
    "        \n",
    "        # append to df\n",
    "        avg_df = avg_df.append(avg_dict, ignore_index=True)\n",
    "        \n",
    "        # move to next file\n",
    "        img_idx += 1\n",
    "        \n",
    "    return avg_df"
   ]
  },
  {
   "cell_type": "code",
   "execution_count": null,
   "id": "27e4e6c2-d2a8-41b6-a609-402ea8d449d5",
   "metadata": {},
   "outputs": [],
   "source": [
    "avg_df = parse_visual_genome(avg_df)"
   ]
  },
  {
   "cell_type": "code",
   "execution_count": 57,
   "id": "cdb98407-1774-40be-bd13-6e6de41781e7",
   "metadata": {},
   "outputs": [],
   "source": [
    "(x_train, y_train), (x_test, y_test) = keras.datasets.cifar100.load_data()\n",
    "avg_df = parse_cifar_100(avg_df, x_train, 'cifar_train_', '.jpeg')\n",
    "avg_df = parse_cifar_100(avg_df, x_test, 'cifar_test_', '.jpeg')\n",
    "\n",
    "avg_df.drop(index=avg_df.index[0], axis=0, inplace=True)"
   ]
  },
  {
   "cell_type": "code",
   "execution_count": 58,
   "id": "dd329519-a09d-40b3-b4fb-9d66646f1ccf",
   "metadata": {},
   "outputs": [
    {
     "data": {
      "text/html": [
       "<div>\n",
       "<style scoped>\n",
       "    .dataframe tbody tr th:only-of-type {\n",
       "        vertical-align: middle;\n",
       "    }\n",
       "\n",
       "    .dataframe tbody tr th {\n",
       "        vertical-align: top;\n",
       "    }\n",
       "\n",
       "    .dataframe thead th {\n",
       "        text-align: right;\n",
       "    }\n",
       "</style>\n",
       "<table border=\"1\" class=\"dataframe\">\n",
       "  <thead>\n",
       "    <tr style=\"text-align: right;\">\n",
       "      <th></th>\n",
       "      <th>Filename</th>\n",
       "      <th>R Average</th>\n",
       "      <th>G Average</th>\n",
       "      <th>B Average</th>\n",
       "    </tr>\n",
       "  </thead>\n",
       "  <tbody>\n",
       "    <tr>\n",
       "      <th>1</th>\n",
       "      <td>1593190.jpg</td>\n",
       "      <td>126.914235</td>\n",
       "      <td>102.113993</td>\n",
       "      <td>102.803323</td>\n",
       "    </tr>\n",
       "    <tr>\n",
       "      <th>2</th>\n",
       "      <td>2336660.jpg</td>\n",
       "      <td>88.919509</td>\n",
       "      <td>92.358368</td>\n",
       "      <td>94.949701</td>\n",
       "    </tr>\n",
       "    <tr>\n",
       "      <th>3</th>\n",
       "      <td>2364278.jpg</td>\n",
       "      <td>90.594624</td>\n",
       "      <td>77.809323</td>\n",
       "      <td>78.683701</td>\n",
       "    </tr>\n",
       "    <tr>\n",
       "      <th>4</th>\n",
       "      <td>2324905.jpg</td>\n",
       "      <td>163.152584</td>\n",
       "      <td>152.23982</td>\n",
       "      <td>136.983652</td>\n",
       "    </tr>\n",
       "    <tr>\n",
       "      <th>5</th>\n",
       "      <td>2410442.jpg</td>\n",
       "      <td>104.139373</td>\n",
       "      <td>114.29944</td>\n",
       "      <td>113.638524</td>\n",
       "    </tr>\n",
       "    <tr>\n",
       "      <th>...</th>\n",
       "      <td>...</td>\n",
       "      <td>...</td>\n",
       "      <td>...</td>\n",
       "      <td>...</td>\n",
       "    </tr>\n",
       "    <tr>\n",
       "      <th>67680</th>\n",
       "      <td>cifar_test_9995.jpeg</td>\n",
       "      <td>93.085938</td>\n",
       "      <td>123.327148</td>\n",
       "      <td>83.829102</td>\n",
       "    </tr>\n",
       "    <tr>\n",
       "      <th>67681</th>\n",
       "      <td>cifar_test_9996.jpeg</td>\n",
       "      <td>120.177734</td>\n",
       "      <td>132.110352</td>\n",
       "      <td>79.393555</td>\n",
       "    </tr>\n",
       "    <tr>\n",
       "      <th>67682</th>\n",
       "      <td>cifar_test_9997.jpeg</td>\n",
       "      <td>75.832031</td>\n",
       "      <td>106.240234</td>\n",
       "      <td>64.107422</td>\n",
       "    </tr>\n",
       "    <tr>\n",
       "      <th>67683</th>\n",
       "      <td>cifar_test_9998.jpeg</td>\n",
       "      <td>104.074219</td>\n",
       "      <td>95.823242</td>\n",
       "      <td>79.599609</td>\n",
       "    </tr>\n",
       "    <tr>\n",
       "      <th>67684</th>\n",
       "      <td>cifar_test_9999.jpeg</td>\n",
       "      <td>143.360352</td>\n",
       "      <td>93.695312</td>\n",
       "      <td>84.158203</td>\n",
       "    </tr>\n",
       "  </tbody>\n",
       "</table>\n",
       "<p>67684 rows × 4 columns</p>\n",
       "</div>"
      ],
      "text/plain": [
       "                   Filename   R Average   G Average   B Average\n",
       "1               1593190.jpg  126.914235  102.113993  102.803323\n",
       "2               2336660.jpg   88.919509   92.358368   94.949701\n",
       "3               2364278.jpg   90.594624   77.809323   78.683701\n",
       "4               2324905.jpg  163.152584   152.23982  136.983652\n",
       "5               2410442.jpg  104.139373   114.29944  113.638524\n",
       "...                     ...         ...         ...         ...\n",
       "67680  cifar_test_9995.jpeg   93.085938  123.327148   83.829102\n",
       "67681  cifar_test_9996.jpeg  120.177734  132.110352   79.393555\n",
       "67682  cifar_test_9997.jpeg   75.832031  106.240234   64.107422\n",
       "67683  cifar_test_9998.jpeg  104.074219   95.823242   79.599609\n",
       "67684  cifar_test_9999.jpeg  143.360352   93.695312   84.158203\n",
       "\n",
       "[67684 rows x 4 columns]"
      ]
     },
     "execution_count": 58,
     "metadata": {},
     "output_type": "execute_result"
    }
   ],
   "source": [
    "avg_df"
   ]
  },
  {
   "cell_type": "code",
   "execution_count": 59,
   "id": "f9413680-cece-472a-b378-a41f1ffc144a",
   "metadata": {},
   "outputs": [],
   "source": [
    "avg_df.to_csv('data/avg_database.csv', index=False)"
   ]
  },
  {
   "cell_type": "code",
   "execution_count": 30,
   "id": "681e5dea-0da2-4675-a0b9-7f6af4e0569f",
   "metadata": {},
   "outputs": [
    {
     "name": "stdout",
     "output_type": "stream",
     "text": [
      "(396, 500, 3)\n",
      "True\n"
     ]
    }
   ],
   "source": [
    "img = cv2.imread('data/images/2338347.jpg')\n",
    "# print(len(cv2.split(img)))\n",
    "# print(cv2.split(img))\n",
    "b,g,r = cv2.split(img)\n",
    "print(img.shape)\n",
    "if b.all() == g.all() and b.all() == r.all():\n",
    "    print(True)\n",
    "\n",
    "# im = Image.open('data/images/2338347.jpg')\n",
    "# im.show()\n",
    "# r = im.split()\n",
    "# print(r)"
   ]
  },
  {
   "cell_type": "code",
   "execution_count": 45,
   "id": "fa75c2ba-cecd-44ec-9d3a-40da0fbf2990",
   "metadata": {},
   "outputs": [],
   "source": [
    "def unpickle(file):\n",
    "    with open(file, 'rb') as fo:\n",
    "        dict = pickle.load(fo, encoding='bytes')\n",
    "    return dict"
   ]
  },
  {
   "cell_type": "code",
   "execution_count": 46,
   "id": "8ab19826-aae3-4e03-8915-f69664bc1419",
   "metadata": {},
   "outputs": [],
   "source": [
    "images = unpickle('data/cifar-10-batches-py/data_batch_1')"
   ]
  },
  {
   "cell_type": "code",
   "execution_count": 48,
   "id": "04cabcfa-c6aa-4a0e-9add-ec62a87d7696",
   "metadata": {},
   "outputs": [
    {
     "name": "stdout",
     "output_type": "stream",
     "text": [
      "dict_keys([b'batch_label', b'labels', b'data', b'filenames'])\n"
     ]
    }
   ],
   "source": [
    "print(images.keys())"
   ]
  },
  {
   "cell_type": "code",
   "execution_count": null,
   "id": "d2632d5d-fe84-47fa-ba83-8f5916977abc",
   "metadata": {},
   "outputs": [],
   "source": []
  }
 ],
 "metadata": {
  "kernelspec": {
   "display_name": "video_mosaic",
   "language": "python",
   "name": "video_mosaic"
  },
  "language_info": {
   "codemirror_mode": {
    "name": "ipython",
    "version": 3
   },
   "file_extension": ".py",
   "mimetype": "text/x-python",
   "name": "python",
   "nbconvert_exporter": "python",
   "pygments_lexer": "ipython3",
   "version": "3.9.12"
  }
 },
 "nbformat": 4,
 "nbformat_minor": 5
}
