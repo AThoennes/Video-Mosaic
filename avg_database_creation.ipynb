{
 "cells": [
  {
   "cell_type": "code",
   "execution_count": 25,
   "id": "09c83b37-e658-4cfb-93cd-73485c1c67b9",
   "metadata": {},
   "outputs": [],
   "source": [
    "import os\n",
    "from PIL import Image\n",
    "import cv2\n",
    "import numpy as np\n",
    "import pandas as pd\n",
    "import pickle\n",
    "from tensorflow import keras\n",
    "import re\n",
    "from pathlib import Path\n",
    "import pickle as pkl"
   ]
  },
  {
   "cell_type": "code",
   "execution_count": 26,
   "id": "bfc6a4cc-bd85-4e09-93a2-e209ed21efa5",
   "metadata": {},
   "outputs": [],
   "source": [
    "# opencv reads grayscale images as 3 channels and copies the first layer twice\n",
    "def is_grayscale(r, g, b):\n",
    "    return b.all() == g.all() and b.all() == r.all()"
   ]
  },
  {
   "cell_type": "code",
   "execution_count": 27,
   "id": "a012b218-ca02-4fb5-b161-352d9e49252c",
   "metadata": {},
   "outputs": [],
   "source": [
    "def parse_visual_genome(avg_df):\n",
    "    # read in all images and calculate the average RGB\n",
    "    data_path = 'data/images/'\n",
    "\n",
    "    for image in os.listdir(data_path):\n",
    "            full_path = data_path + image\n",
    "            img = cv2.imread(full_path)\n",
    "            if img is not None:\n",
    "                b,g,r = cv2.split(img)\n",
    "                if not is_grayscale(r, g, b):\n",
    "                    avg_dict = {'Filename':image, 'R Average':np.mean(r), 'G Average':np.mean(g), 'B Average':np.mean(b)}\n",
    "                    avg_df = avg_df.append(avg_dict, ignore_index=True)\n",
    "\n",
    "    return avg_df"
   ]
  },
  {
   "cell_type": "code",
   "execution_count": 28,
   "id": "2c11540f-16ec-427c-b77c-6d4e50bbfbcb",
   "metadata": {},
   "outputs": [],
   "source": [
    "def parse_cifar_100(avg_df, images, file_prefix, ext):\n",
    "    # data_size = images.shape[0]\n",
    "    img_idx = 0\n",
    "    \n",
    "    for image in images:\n",
    "        # get file name\n",
    "        filename = file_prefix+str(img_idx)+ext\n",
    "        # save cifar img\n",
    "        pil_img = Image.fromarray(np.uint8(image))\n",
    "        pil_img.save('data/images/'+filename)\n",
    "        \n",
    "        # obtain channels\n",
    "        r,g,b = pil_img.split()\n",
    "        \n",
    "        # calculate and save avgs\n",
    "        avg_dict = {'Filename':filename, 'R Average':np.mean(r), 'G Average':np.mean(g), 'B Average':np.mean(b)}\n",
    "        \n",
    "        # append to df\n",
    "        avg_df = avg_df.append(avg_dict, ignore_index=True)\n",
    "        \n",
    "        # move to next file\n",
    "        img_idx += 1\n",
    "        \n",
    "    return avg_df"
   ]
  },
  {
   "cell_type": "code",
   "execution_count": 29,
   "id": "1072717c-4f37-42b0-b467-c7a07bc784f7",
   "metadata": {},
   "outputs": [],
   "source": [
    "def compile_img_database():\n",
    "    # regex = re.compile(r'^([^.]+)')\n",
    "    img_df = pd.DataFrame(columns=['Filename','R', 'G','B'])\n",
    "    \n",
    "    for file in avg_df['Filename']:\n",
    "        image = cv2.imread('data/images/'+file)\n",
    "        b,g,r = cv2.split(image)\n",
    "        img_dict = {'Filename':file, 'R':r.astype(np.uint8), 'G':g.astype(np.uint8), 'B':b.astype(np.uint8)}\n",
    "        img_df = img_df.append(img_dict, ignore_index=True)\n",
    "    \n",
    "    img_df.to_pickle('data/img_database.pkl')\n",
    "    # img_df.to_csv('data/img_database.csv', index=False)"
   ]
  },
  {
   "cell_type": "code",
   "execution_count": 30,
   "id": "27e4e6c2-d2a8-41b6-a609-402ea8d449d5",
   "metadata": {},
   "outputs": [],
   "source": [
    "def compile_avg_database(avg_df):\n",
    "    # create the dataframe\n",
    "    avg_df = pd.DataFrame(columns=['Filename','R Average', 'G Average','B Average'])\n",
    "    \n",
    "    # parse the VG data\n",
    "    avg_df = parse_visual_genome(avg_df)\n",
    "    \n",
    "    # parse the CIFAR data\n",
    "    (x_train, y_train), (x_test, y_test) = keras.datasets.cifar100.load_data()\n",
    "    avg_df = parse_cifar_100(avg_df, x_train, 'cifar_train_', '.jpeg')\n",
    "    avg_df = parse_cifar_100(avg_df, x_test, 'cifar_test_', '.jpeg')\n",
    "    \n",
    "    avg_df.to_csv('data/avg_database.csv', index=False)"
   ]
  },
  {
   "cell_type": "code",
   "execution_count": null,
   "id": "cdb98407-1774-40be-bd13-6e6de41781e7",
   "metadata": {},
   "outputs": [],
   "source": [
    "compile_avg_database(avg_df)\n",
    "compile_img_database()"
   ]
  },
  {
   "cell_type": "code",
   "execution_count": null,
   "id": "1c7540c8-1875-411b-8ac3-6b3721067d87",
   "metadata": {},
   "outputs": [],
   "source": [
    "df = pd.read_pickle('data/img_database.pkl')\n",
    "for row in df.values:\n",
    "    name = row[0]\n",
    "    r = row[1]\n",
    "    g = row[2]\n",
    "    b = row[3]\n",
    "    image = np.dstack([r,g,b])\n",
    "    Image.fromarray(image.astype(np.uint8)).show()\n",
    "    break"
   ]
  },
  {
   "cell_type": "code",
   "execution_count": null,
   "id": "7af00246-0ad3-4251-94e7-8d0fcebd463e",
   "metadata": {},
   "outputs": [],
   "source": [
    "img_df"
   ]
  },
  {
   "cell_type": "code",
   "execution_count": 124,
   "id": "68f1998a-afe2-4465-bd49-466949e17afe",
   "metadata": {},
   "outputs": [
    {
     "name": "stdout",
     "output_type": "stream",
     "text": [
      "True\n"
     ]
    }
   ],
   "source": [
    "print(len(img_df) == len())"
   ]
  },
  {
   "cell_type": "code",
   "execution_count": 166,
   "id": "045809aa-49a4-4d2d-adcf-0eec61e4a789",
   "metadata": {},
   "outputs": [],
   "source": [
    "# def compile_img_database():\n",
    "#     regex = re.compile(r'^([^.]+)')\n",
    "#     files = 0\n",
    "#     avg_df = pd.read_csv('data/avg_database.csv')\n",
    "#     for file in avg_df['Filename']:\n",
    "#         image = cv2.imread('data/images/'+file)\n",
    "#         b,g,r = cv2.split(image)\n",
    "#         name = regex.findall(file)[0]\n",
    "#         name = name + '.pkl'\n",
    "        \n",
    "#         with open('data/numpy_pickles/'+ name,'wb') as f:\n",
    "#             pkl.dump(r, f)\n",
    "#             pkl.dump(g, f)\n",
    "#             pkl.dump(b, f)\n",
    "#             files += 1\n",
    "#     print(files)"
   ]
  },
  {
   "cell_type": "code",
   "execution_count": 169,
   "id": "9c7df180-a3a3-4d14-887e-44549542362a",
   "metadata": {},
   "outputs": [],
   "source": [
    "def compile_img_database():\n",
    "    regex = re.compile(r'^([^.]+)')\n",
    "    files = 0\n",
    "    avg_df = pd.read_csv('data/avg_database.csv')\n",
    "    for file in avg_df['Filename']:\n",
    "        # image = cv2.imread('data/images/'+file)\n",
    "        Image.open('data/images/'+file).save('data/numpy_images/'+file)\n",
    "    print(files)"
   ]
  },
  {
   "cell_type": "code",
   "execution_count": 170,
   "id": "35a5796b-efea-4803-a897-082dbb8e4df5",
   "metadata": {},
   "outputs": [
    {
     "name": "stdout",
     "output_type": "stream",
     "text": [
      "0\n"
     ]
    }
   ],
   "source": [
    "compile_img_database()"
   ]
  },
  {
   "cell_type": "code",
   "execution_count": 171,
   "id": "d1d32ed0-3c4e-4e6c-9742-434cc3dfbff1",
   "metadata": {},
   "outputs": [
    {
     "name": "stdout",
     "output_type": "stream",
     "text": [
      "67685\n",
      "67685\n",
      "94233\n"
     ]
    }
   ],
   "source": [
    "print(len(os.listdir('data/numpy_pickles/')))\n",
    "print(len(os.listdir('data/numpy_images/')))\n",
    "print(len(avg_df['Filename']))"
   ]
  },
  {
   "cell_type": "code",
   "execution_count": 154,
   "id": "e4273d5c-3398-41b6-bed4-f18d23d720a9",
   "metadata": {},
   "outputs": [],
   "source": [
    "a = np.array([[1,2,3],[4,5,6]])\n",
    "b = np.array([[7,8,9],[10,11,12]])\n",
    "with open('test.pkl','wb') as f:\n",
    "    pkl.dump(a, f)\n",
    "    pkl.dump(b, f)"
   ]
  },
  {
   "cell_type": "code",
   "execution_count": 156,
   "id": "b17fcd33-a168-4aa1-a30e-1c872c1668f5",
   "metadata": {},
   "outputs": [
    {
     "name": "stdout",
     "output_type": "stream",
     "text": [
      "[[1 2 3]\n",
      " [4 5 6]]\n",
      "[[ 7  8  9]\n",
      " [10 11 12]]\n"
     ]
    }
   ],
   "source": [
    "with open('test.pkl','rb') as f:\n",
    "    x = pickle.load(f)\n",
    "    print(x)\n",
    "    y = pickle.load(f)\n",
    "    print(y)"
   ]
  },
  {
   "cell_type": "code",
   "execution_count": 190,
   "id": "1f0d45c3-84a9-44e7-b88f-2d6df1bd4b4d",
   "metadata": {},
   "outputs": [],
   "source": [
    "img_df.to_pickle(\"img_df.pkl\")"
   ]
  },
  {
   "cell_type": "code",
   "execution_count": 191,
   "id": "8b6f2fcb-4dd4-4448-b1d0-3cfaa9fcff6d",
   "metadata": {},
   "outputs": [
    {
     "data": {
      "text/html": [
       "<div>\n",
       "<style scoped>\n",
       "    .dataframe tbody tr th:only-of-type {\n",
       "        vertical-align: middle;\n",
       "    }\n",
       "\n",
       "    .dataframe tbody tr th {\n",
       "        vertical-align: top;\n",
       "    }\n",
       "\n",
       "    .dataframe thead th {\n",
       "        text-align: right;\n",
       "    }\n",
       "</style>\n",
       "<table border=\"1\" class=\"dataframe\">\n",
       "  <thead>\n",
       "    <tr style=\"text-align: right;\">\n",
       "      <th></th>\n",
       "      <th>Filename</th>\n",
       "      <th>R Average</th>\n",
       "      <th>G Average</th>\n",
       "      <th>B Average</th>\n",
       "    </tr>\n",
       "  </thead>\n",
       "  <tbody>\n",
       "    <tr>\n",
       "      <th>0</th>\n",
       "      <td>cifar_train_43545.jpeg</td>\n",
       "      <td>[[92, 99, 102, 103, 114, 123, 123, 114, 134, 1...</td>\n",
       "      <td>[[103, 107, 106, 103, 107, 112, 108, 96, 115, ...</td>\n",
       "      <td>[[87, 92, 92, 93, 99, 106, 103, 92, 111, 78, 9...</td>\n",
       "    </tr>\n",
       "    <tr>\n",
       "      <th>1</th>\n",
       "      <td>cifar_train_26037.jpeg</td>\n",
       "      <td>[[255, 222, 232, 236, 235, 255, 255, 232, 242,...</td>\n",
       "      <td>[[240, 206, 216, 219, 218, 240, 235, 212, 224,...</td>\n",
       "      <td>[[189, 155, 164, 167, 164, 187, 184, 162, 176,...</td>\n",
       "    </tr>\n",
       "    <tr>\n",
       "      <th>2</th>\n",
       "      <td>2333608.jpg</td>\n",
       "      <td>[[25, 23, 56, 31, 44, 47, 70, 61, 73, 91, 100,...</td>\n",
       "      <td>[[23, 33, 79, 59, 71, 74, 102, 100, 109, 121, ...</td>\n",
       "      <td>[[8, 34, 97, 83, 90, 91, 125, 131, 143, 149, 1...</td>\n",
       "    </tr>\n",
       "    <tr>\n",
       "      <th>3</th>\n",
       "      <td>cifar_test_8149.jpeg</td>\n",
       "      <td>[[84, 82, 60, 60, 87, 83, 78, 104, 133, 109, 8...</td>\n",
       "      <td>[[91, 90, 71, 74, 104, 103, 99, 127, 154, 127,...</td>\n",
       "      <td>[[107, 101, 77, 74, 96, 91, 84, 111, 139, 111,...</td>\n",
       "    </tr>\n",
       "    <tr>\n",
       "      <th>4</th>\n",
       "      <td>cifar_train_5736.jpeg</td>\n",
       "      <td>[[124, 92, 97, 98, 102, 106, 92, 112, 132, 99,...</td>\n",
       "      <td>[[134, 102, 104, 104, 108, 109, 94, 112, 132, ...</td>\n",
       "      <td>[[63, 31, 34, 34, 38, 40, 28, 48, 70, 40, 25, ...</td>\n",
       "    </tr>\n",
       "    <tr>\n",
       "      <th>...</th>\n",
       "      <td>...</td>\n",
       "      <td>...</td>\n",
       "      <td>...</td>\n",
       "      <td>...</td>\n",
       "    </tr>\n",
       "    <tr>\n",
       "      <th>94228</th>\n",
       "      <td>cifar_test_9995.jpeg</td>\n",
       "      <td>[[133, 108, 94, 80, 103, 172, 132, 126, 139, 1...</td>\n",
       "      <td>[[187, 167, 158, 143, 160, 219, 153, 94, 41, 4...</td>\n",
       "      <td>[[93, 75, 71, 64, 91, 164, 114, 79, 54, 75, 13...</td>\n",
       "    </tr>\n",
       "    <tr>\n",
       "      <th>94229</th>\n",
       "      <td>cifar_test_9996.jpeg</td>\n",
       "      <td>[[110, 117, 132, 137, 129, 128, 137, 140, 128,...</td>\n",
       "      <td>[[124, 131, 146, 153, 148, 149, 160, 168, 158,...</td>\n",
       "      <td>[[65, 70, 85, 90, 82, 80, 88, 94, 84, 77, 71, ...</td>\n",
       "    </tr>\n",
       "    <tr>\n",
       "      <th>94230</th>\n",
       "      <td>cifar_test_9997.jpeg</td>\n",
       "      <td>[[24, 27, 19, 13, 16, 13, 9, 15, 16, 30, 33, 1...</td>\n",
       "      <td>[[35, 39, 31, 25, 28, 24, 19, 23, 21, 33, 33, ...</td>\n",
       "      <td>[[37, 39, 31, 25, 28, 26, 21, 26, 27, 42, 45, ...</td>\n",
       "    </tr>\n",
       "    <tr>\n",
       "      <th>94231</th>\n",
       "      <td>cifar_test_9998.jpeg</td>\n",
       "      <td>[[80, 93, 19, 46, 82, 105, 62, 81, 57, 57, 51,...</td>\n",
       "      <td>[[87, 99, 21, 44, 76, 94, 47, 61, 36, 31, 26, ...</td>\n",
       "      <td>[[79, 89, 10, 31, 60, 74, 24, 36, 9, 4, 0, 62,...</td>\n",
       "    </tr>\n",
       "    <tr>\n",
       "      <th>94232</th>\n",
       "      <td>cifar_test_9999.jpeg</td>\n",
       "      <td>[[250, 244, 219, 158, 98, 98, 66, 69, 106, 104...</td>\n",
       "      <td>[[245, 239, 212, 149, 85, 80, 42, 41, 78, 77, ...</td>\n",
       "      <td>[[241, 233, 202, 134, 66, 58, 18, 17, 54, 56, ...</td>\n",
       "    </tr>\n",
       "  </tbody>\n",
       "</table>\n",
       "<p>94233 rows × 4 columns</p>\n",
       "</div>"
      ],
      "text/plain": [
       "                     Filename  \\\n",
       "0      cifar_train_43545.jpeg   \n",
       "1      cifar_train_26037.jpeg   \n",
       "2                 2333608.jpg   \n",
       "3        cifar_test_8149.jpeg   \n",
       "4       cifar_train_5736.jpeg   \n",
       "...                       ...   \n",
       "94228    cifar_test_9995.jpeg   \n",
       "94229    cifar_test_9996.jpeg   \n",
       "94230    cifar_test_9997.jpeg   \n",
       "94231    cifar_test_9998.jpeg   \n",
       "94232    cifar_test_9999.jpeg   \n",
       "\n",
       "                                               R Average  \\\n",
       "0      [[92, 99, 102, 103, 114, 123, 123, 114, 134, 1...   \n",
       "1      [[255, 222, 232, 236, 235, 255, 255, 232, 242,...   \n",
       "2      [[25, 23, 56, 31, 44, 47, 70, 61, 73, 91, 100,...   \n",
       "3      [[84, 82, 60, 60, 87, 83, 78, 104, 133, 109, 8...   \n",
       "4      [[124, 92, 97, 98, 102, 106, 92, 112, 132, 99,...   \n",
       "...                                                  ...   \n",
       "94228  [[133, 108, 94, 80, 103, 172, 132, 126, 139, 1...   \n",
       "94229  [[110, 117, 132, 137, 129, 128, 137, 140, 128,...   \n",
       "94230  [[24, 27, 19, 13, 16, 13, 9, 15, 16, 30, 33, 1...   \n",
       "94231  [[80, 93, 19, 46, 82, 105, 62, 81, 57, 57, 51,...   \n",
       "94232  [[250, 244, 219, 158, 98, 98, 66, 69, 106, 104...   \n",
       "\n",
       "                                               G Average  \\\n",
       "0      [[103, 107, 106, 103, 107, 112, 108, 96, 115, ...   \n",
       "1      [[240, 206, 216, 219, 218, 240, 235, 212, 224,...   \n",
       "2      [[23, 33, 79, 59, 71, 74, 102, 100, 109, 121, ...   \n",
       "3      [[91, 90, 71, 74, 104, 103, 99, 127, 154, 127,...   \n",
       "4      [[134, 102, 104, 104, 108, 109, 94, 112, 132, ...   \n",
       "...                                                  ...   \n",
       "94228  [[187, 167, 158, 143, 160, 219, 153, 94, 41, 4...   \n",
       "94229  [[124, 131, 146, 153, 148, 149, 160, 168, 158,...   \n",
       "94230  [[35, 39, 31, 25, 28, 24, 19, 23, 21, 33, 33, ...   \n",
       "94231  [[87, 99, 21, 44, 76, 94, 47, 61, 36, 31, 26, ...   \n",
       "94232  [[245, 239, 212, 149, 85, 80, 42, 41, 78, 77, ...   \n",
       "\n",
       "                                               B Average  \n",
       "0      [[87, 92, 92, 93, 99, 106, 103, 92, 111, 78, 9...  \n",
       "1      [[189, 155, 164, 167, 164, 187, 184, 162, 176,...  \n",
       "2      [[8, 34, 97, 83, 90, 91, 125, 131, 143, 149, 1...  \n",
       "3      [[107, 101, 77, 74, 96, 91, 84, 111, 139, 111,...  \n",
       "4      [[63, 31, 34, 34, 38, 40, 28, 48, 70, 40, 25, ...  \n",
       "...                                                  ...  \n",
       "94228  [[93, 75, 71, 64, 91, 164, 114, 79, 54, 75, 13...  \n",
       "94229  [[65, 70, 85, 90, 82, 80, 88, 94, 84, 77, 71, ...  \n",
       "94230  [[37, 39, 31, 25, 28, 26, 21, 26, 27, 42, 45, ...  \n",
       "94231  [[79, 89, 10, 31, 60, 74, 24, 36, 9, 4, 0, 62,...  \n",
       "94232  [[241, 233, 202, 134, 66, 58, 18, 17, 54, 56, ...  \n",
       "\n",
       "[94233 rows x 4 columns]"
      ]
     },
     "execution_count": 191,
     "metadata": {},
     "output_type": "execute_result"
    }
   ],
   "source": [
    "r = pd.read_pickle(\"img_df.pkl\")\n",
    "r"
   ]
  },
  {
   "cell_type": "code",
   "execution_count": 198,
   "id": "96b64be0-6443-4d1f-a14a-440b1b1e9e9c",
   "metadata": {},
   "outputs": [
    {
     "name": "stdout",
     "output_type": "stream",
     "text": [
      "<class 'numpy.ndarray'>\n",
      "32\n",
      "[132  89  99 122 112  74  37  39  66  97  51  41  33  22  21  49  58   7\n",
      "  31  37  28  39  28  38  36  46  52  57  75 106 129 138]\n"
     ]
    }
   ],
   "source": [
    "print(type(r['R Average'][0]))\n",
    "print(len(r['R Average'][0]))\n",
    "print(r['R Average'][0][25])"
   ]
  },
  {
   "cell_type": "code",
   "execution_count": null,
   "id": "c9103349-e305-4a03-aca4-f1b297ef2059",
   "metadata": {},
   "outputs": [],
   "source": []
  }
 ],
 "metadata": {
  "kernelspec": {
   "display_name": "video_mosaic",
   "language": "python",
   "name": "video_mosaic"
  },
  "language_info": {
   "codemirror_mode": {
    "name": "ipython",
    "version": 3
   },
   "file_extension": ".py",
   "mimetype": "text/x-python",
   "name": "python",
   "nbconvert_exporter": "python",
   "pygments_lexer": "ipython3",
   "version": "3.9.12"
  }
 },
 "nbformat": 4,
 "nbformat_minor": 5
}
