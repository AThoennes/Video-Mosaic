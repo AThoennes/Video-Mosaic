{
 "cells": [
  {
   "cell_type": "code",
   "execution_count": 35,
   "id": "09c83b37-e658-4cfb-93cd-73485c1c67b9",
   "metadata": {},
   "outputs": [],
   "source": [
    "import os\n",
    "from PIL import Image\n",
    "import cv2\n",
    "import numpy as np\n",
    "import pandas as pd"
   ]
  },
  {
   "cell_type": "code",
   "execution_count": 36,
   "id": "3f8483f2-68dd-4f49-980d-9cc8defadb35",
   "metadata": {
    "tags": []
   },
   "outputs": [
    {
     "data": {
      "text/html": [
       "<div>\n",
       "<style scoped>\n",
       "    .dataframe tbody tr th:only-of-type {\n",
       "        vertical-align: middle;\n",
       "    }\n",
       "\n",
       "    .dataframe tbody tr th {\n",
       "        vertical-align: top;\n",
       "    }\n",
       "\n",
       "    .dataframe thead th {\n",
       "        text-align: right;\n",
       "    }\n",
       "</style>\n",
       "<table border=\"1\" class=\"dataframe\">\n",
       "  <thead>\n",
       "    <tr style=\"text-align: right;\">\n",
       "      <th></th>\n",
       "      <th>Filename</th>\n",
       "      <th>R Average</th>\n",
       "      <th>G Average</th>\n",
       "      <th>B Average</th>\n",
       "    </tr>\n",
       "  </thead>\n",
       "  <tbody>\n",
       "    <tr>\n",
       "      <th>0</th>\n",
       "      <td></td>\n",
       "      <td></td>\n",
       "      <td></td>\n",
       "      <td></td>\n",
       "    </tr>\n",
       "  </tbody>\n",
       "</table>\n",
       "</div>"
      ],
      "text/plain": [
       "  Filename R Average G Average B Average\n",
       "0                                       "
      ]
     },
     "execution_count": 36,
     "metadata": {},
     "output_type": "execute_result"
    }
   ],
   "source": [
    "# creates the dataframe\n",
    "avg_df = pd.DataFrame()\n",
    "empty_df = {'Filename':'', 'R Average':'', 'G Average':'', 'B Average':''}\n",
    "avg_df = avg_df.append(empty_df, ignore_index=True)\n",
    "avg_df = avg_df.reindex(columns=['Filename','R Average', 'G Average','B Average'])\n",
    "avg_df"
   ]
  },
  {
   "cell_type": "code",
   "execution_count": 37,
   "id": "bfc6a4cc-bd85-4e09-93a2-e209ed21efa5",
   "metadata": {},
   "outputs": [],
   "source": [
    "# opencv reads grayscale images as 3 channels and copies the first layer twice\n",
    "def is_grayscale(r, g, b):\n",
    "    return b.all() == g.all() and b.all() == r.all()"
   ]
  },
  {
   "cell_type": "code",
   "execution_count": 39,
   "id": "a012b218-ca02-4fb5-b161-352d9e49252c",
   "metadata": {},
   "outputs": [],
   "source": [
    "def create_df(avg_df):\n",
    "    # read in all images and calculate the average RGB\n",
    "    data_path = 'data/images/'\n",
    "\n",
    "    o = 0\n",
    "    for image in os.listdir(data_path):\n",
    "            if o%10000==0:\n",
    "                print(o)\n",
    "            full_path = data_path + image\n",
    "            img = cv2.imread(full_path)\n",
    "            if img is not None:\n",
    "                b,g,r = cv2.split(img)\n",
    "                if not is_grayscale(r, g, b):\n",
    "                    avg_dict = {'Filename':image, 'R Average':np.mean(r), 'G Average':np.mean(g), 'B Average':np.mean(b)}\n",
    "                    avg_df = avg_df.append(avg_dict, ignore_index=True)\n",
    "                    o+=1\n",
    "\n",
    "    avg_df.drop(index=avg_df.index[0], axis=0, inplace=True)\n",
    "    avg_df\n",
    "    return avg_df"
   ]
  },
  {
   "cell_type": "code",
   "execution_count": null,
   "id": "27e4e6c2-d2a8-41b6-a609-402ea8d449d5",
   "metadata": {},
   "outputs": [
    {
     "name": "stdout",
     "output_type": "stream",
     "text": [
      "0\n",
      "0\n",
      "0\n",
      "0\n",
      "0\n",
      "0\n",
      "0\n",
      "0\n",
      "0\n",
      "0\n",
      "0\n",
      "0\n",
      "0\n",
      "0\n",
      "0\n"
     ]
    }
   ],
   "source": [
    "avg_df = create_df(avg_df)"
   ]
  },
  {
   "cell_type": "code",
   "execution_count": null,
   "id": "dd329519-a09d-40b3-b4fb-9d66646f1ccf",
   "metadata": {},
   "outputs": [],
   "source": [
    "avg_df"
   ]
  },
  {
   "cell_type": "code",
   "execution_count": null,
   "id": "f9413680-cece-472a-b378-a41f1ffc144a",
   "metadata": {},
   "outputs": [],
   "source": [
    "avg_df.to_csv('data/avg_database.csv', index=False)"
   ]
  },
  {
   "cell_type": "code",
   "execution_count": 30,
   "id": "681e5dea-0da2-4675-a0b9-7f6af4e0569f",
   "metadata": {},
   "outputs": [
    {
     "name": "stdout",
     "output_type": "stream",
     "text": [
      "(396, 500, 3)\n",
      "True\n"
     ]
    }
   ],
   "source": [
    "img = cv2.imread('data/images/2338347.jpg')\n",
    "# print(len(cv2.split(img)))\n",
    "# print(cv2.split(img))\n",
    "b,g,r = cv2.split(img)\n",
    "print(img.shape)\n",
    "if b.all() == g.all() and b.all() == r.all():\n",
    "    print(True)\n",
    "\n",
    "# im = Image.open('data/images/2338347.jpg')\n",
    "# im.show()\n",
    "# r = im.split()\n",
    "# print(r)"
   ]
  },
  {
   "cell_type": "code",
   "execution_count": null,
   "id": "fa75c2ba-cecd-44ec-9d3a-40da0fbf2990",
   "metadata": {},
   "outputs": [],
   "source": []
  }
 ],
 "metadata": {
  "kernelspec": {
   "display_name": "video_mosaic",
   "language": "python",
   "name": "video_mosaic"
  },
  "language_info": {
   "codemirror_mode": {
    "name": "ipython",
    "version": 3
   },
   "file_extension": ".py",
   "mimetype": "text/x-python",
   "name": "python",
   "nbconvert_exporter": "python",
   "pygments_lexer": "ipython3",
   "version": "3.9.12"
  }
 },
 "nbformat": 4,
 "nbformat_minor": 5
}
