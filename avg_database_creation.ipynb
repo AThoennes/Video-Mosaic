{
 "cells": [
  {
   "cell_type": "code",
   "execution_count": 64,
   "id": "09c83b37-e658-4cfb-93cd-73485c1c67b9",
   "metadata": {},
   "outputs": [],
   "source": [
    "import os\n",
    "from PIL import Image\n",
    "import cv2\n",
    "import numpy as np\n",
    "import pandas as pd\n",
    "import pickle\n",
    "from tensorflow import keras\n",
    "import re\n",
    "from pathlib import Path"
   ]
  },
  {
   "cell_type": "code",
   "execution_count": 65,
   "id": "3f8483f2-68dd-4f49-980d-9cc8defadb35",
   "metadata": {
    "tags": []
   },
   "outputs": [
    {
     "data": {
      "text/html": [
       "<div>\n",
       "<style scoped>\n",
       "    .dataframe tbody tr th:only-of-type {\n",
       "        vertical-align: middle;\n",
       "    }\n",
       "\n",
       "    .dataframe tbody tr th {\n",
       "        vertical-align: top;\n",
       "    }\n",
       "\n",
       "    .dataframe thead th {\n",
       "        text-align: right;\n",
       "    }\n",
       "</style>\n",
       "<table border=\"1\" class=\"dataframe\">\n",
       "  <thead>\n",
       "    <tr style=\"text-align: right;\">\n",
       "      <th></th>\n",
       "      <th>Filename</th>\n",
       "      <th>R Average</th>\n",
       "      <th>G Average</th>\n",
       "      <th>B Average</th>\n",
       "    </tr>\n",
       "  </thead>\n",
       "  <tbody>\n",
       "  </tbody>\n",
       "</table>\n",
       "</div>"
      ],
      "text/plain": [
       "Empty DataFrame\n",
       "Columns: [Filename, R Average, G Average, B Average]\n",
       "Index: []"
      ]
     },
     "execution_count": 65,
     "metadata": {},
     "output_type": "execute_result"
    }
   ],
   "source": [
    "# creates the dataframe\n",
    "avg_df = pd.DataFrame(columns=['Filename','R Average', 'G Average','B Average'])\n",
    "avg_df"
   ]
  },
  {
   "cell_type": "code",
   "execution_count": 66,
   "id": "bfc6a4cc-bd85-4e09-93a2-e209ed21efa5",
   "metadata": {},
   "outputs": [],
   "source": [
    "# opencv reads grayscale images as 3 channels and copies the first layer twice\n",
    "def is_grayscale(r, g, b):\n",
    "    return b.all() == g.all() and b.all() == r.all()"
   ]
  },
  {
   "cell_type": "code",
   "execution_count": 67,
   "id": "a012b218-ca02-4fb5-b161-352d9e49252c",
   "metadata": {},
   "outputs": [],
   "source": [
    "def parse_visual_genome(avg_df):\n",
    "    # read in all images and calculate the average RGB\n",
    "    data_path = 'data/images/'\n",
    "\n",
    "    for image in os.listdir(data_path):\n",
    "            full_path = data_path + image\n",
    "            img = cv2.imread(full_path)\n",
    "            if img is not None:\n",
    "                b,g,r = cv2.split(img)\n",
    "                if not is_grayscale(r, g, b):\n",
    "                    avg_dict = {'Filename':image, 'R Average':np.mean(r), 'G Average':np.mean(g), 'B Average':np.mean(b)}\n",
    "                    avg_df = avg_df.append(avg_dict, ignore_index=True)\n",
    "\n",
    "    return avg_df"
   ]
  },
  {
   "cell_type": "code",
   "execution_count": 68,
   "id": "2c11540f-16ec-427c-b77c-6d4e50bbfbcb",
   "metadata": {},
   "outputs": [],
   "source": [
    "def parse_cifar_100(avg_df, images, file_prefix, ext):\n",
    "    # data_size = images.shape[0]\n",
    "    img_idx = 0\n",
    "    \n",
    "    for image in images:\n",
    "        # get file name\n",
    "        filename = file_prefix+str(img_idx)+ext\n",
    "        # save cifar img\n",
    "        pil_img = Image.fromarray(np.uint8(image))\n",
    "        pil_img.save('data/images/'+filename)\n",
    "        \n",
    "        # obtain channels\n",
    "        r,g,b = pil_img.split()\n",
    "        \n",
    "        # calculate and save avgs\n",
    "        avg_dict = {'Filename':filename, 'R Average':np.mean(r), 'G Average':np.mean(g), 'B Average':np.mean(b)}\n",
    "        \n",
    "        # append to df\n",
    "        avg_df = avg_df.append(avg_dict, ignore_index=True)\n",
    "        \n",
    "        # move to next file\n",
    "        img_idx += 1\n",
    "        \n",
    "    return avg_df"
   ]
  },
  {
   "cell_type": "code",
   "execution_count": null,
   "id": "1072717c-4f37-42b0-b467-c7a07bc784f7",
   "metadata": {},
   "outputs": [
    {
     "name": "stdout",
     "output_type": "stream",
     "text": [
      "94233\n"
     ]
    }
   ],
   "source": [
    "def compile_img_database():\n",
    "    regex = re.compile(r'^([^.]+)')\n",
    "    img_df = pd.DataFrame(columns=['Filename','R Average', 'G Average','B Average'])\n",
    "    for file in avg_df['Filename']:\n",
    "        image = cv2.imread('data/images/'+file)\n",
    "        b,g,r = cv2.split(image)\n",
    "        img_dict = {'Filename':file, 'R Average':r.astype(np.uint8), 'G Average':g.astype(np.uint8), 'B Average':b.astype(np.uint8)}\n",
    "        img_df = img_df.append(img_dict, ignore_index=True)\n",
    "    \n",
    "    img_df.to_csv('data/img_database.csv', index=False)"
   ]
  },
  {
   "cell_type": "code",
   "execution_count": 69,
   "id": "27e4e6c2-d2a8-41b6-a609-402ea8d449d5",
   "metadata": {},
   "outputs": [],
   "source": [
    "def construct_avg_database():\n",
    "    avg_df = parse_visual_genome(avg_df)\n",
    "    (x_train, y_train), (x_test, y_test) = keras.datasets.cifar100.load_data()\n",
    "    avg_df = parse_cifar_100(avg_df, x_train, 'cifar_train_', '.jpeg')\n",
    "    avg_df = parse_cifar_100(avg_df, x_test, 'cifar_test_', '.jpeg')\n",
    "    \n",
    "    avg_df.to_csv('data/avg_database.csv', index=False)"
   ]
  },
  {
   "cell_type": "code",
   "execution_count": 70,
   "id": "cdb98407-1774-40be-bd13-6e6de41781e7",
   "metadata": {},
   "outputs": [],
   "source": [
    "compile_avg_database()\n",
    "compile_img_database()"
   ]
  },
  {
   "cell_type": "code",
   "execution_count": 124,
   "id": "68f1998a-afe2-4465-bd49-466949e17afe",
   "metadata": {},
   "outputs": [
    {
     "name": "stdout",
     "output_type": "stream",
     "text": [
      "True\n"
     ]
    }
   ],
   "source": [
    "print(len(img_df) == len())"
   ]
  },
  {
   "cell_type": "code",
   "execution_count": 140,
   "id": "1c7540c8-1875-411b-8ac3-6b3721067d87",
   "metadata": {},
   "outputs": [
    {
     "data": {
      "image/png": "[encoded data removed]",
      "text/plain": [
       "<PIL.Image.Image image mode=RGB size=32x32 at 0x7FF0C6005E80>"
      ]
     },
     "metadata": {},
     "output_type": "display_data"
    }
   ],
   "source": [
    "for row in img_df.values:\n",
    "    name = row[0]\n",
    "    r = row[1]\n",
    "    g = row[2]\n",
    "    b = row[3]\n",
    "    image = np.dstack([r,g,b])\n",
    "    Image.fromarray(image.astype(np.uint8)).show()\n",
    "    break"
   ]
  }
 ],
 "metadata": {
  "kernelspec": {
   "display_name": "video_mosaic",
   "language": "python",
   "name": "video_mosaic"
  },
  "language_info": {
   "codemirror_mode": {
    "name": "ipython",
    "version": 3
   },
   "file_extension": ".py",
   "mimetype": "text/x-python",
   "name": "python",
   "nbconvert_exporter": "python",
   "pygments_lexer": "ipython3",
   "version": "3.9.12"
  }
 },
 "nbformat": 4,
 "nbformat_minor": 5
}
