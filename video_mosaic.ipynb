{
 "cells": [
  {
   "cell_type": "markdown",
   "id": "8f8ae34b-00c7-4810-8e80-838bbdc37b6f",
   "metadata": {},
   "source": [
    "# Imports"
   ]
  },
  {
   "cell_type": "code",
   "execution_count": 1,
   "id": "af62e9b5-4591-40c3-a657-4d87f891fa2a",
   "metadata": {},
   "outputs": [],
   "source": [
    "import pandas as pd\n",
    "import cv2\n",
    "import numpy as np\n",
    "from PIL import Image\n",
    "import matplotlib.pyplot as plt\n",
    "from matplotlib.pyplot import figure\n",
    "import os\n",
    "import re"
   ]
  },
  {
   "cell_type": "markdown",
   "id": "864eb67a-4df7-4ba9-97ba-5f0cd27ac7cb",
   "metadata": {
    "tags": []
   },
   "source": [
    "# Distance Functions"
   ]
  },
  {
   "cell_type": "code",
   "execution_count": 2,
   "id": "784a919a-1374-4dea-838b-2ec7bb08e825",
   "metadata": {},
   "outputs": [],
   "source": [
    "# manhattan\n",
    "def calc_l1_dist(a, b, c, x, y, z):  \n",
    "    return (abs(int(a)-int(x)) + abs(b-y) + abs(c-z))"
   ]
  },
  {
   "cell_type": "code",
   "execution_count": 3,
   "id": "67afcc5f-5932-4463-8a3c-99b89e07dd35",
   "metadata": {},
   "outputs": [],
   "source": [
    "# euclidian\n",
    "def calc_l2_dist(x1, x2, x3, y1, y2, y3):\n",
    "    return (np.sqrt(np.pow(x1-y1,2) + np.pow(x2-y2,2) + np.pow(x3-y3,2)))"
   ]
  },
  {
   "cell_type": "code",
   "execution_count": 4,
   "id": "03ed9804-3948-49cb-b3c0-858e1723ec72",
   "metadata": {},
   "outputs": [],
   "source": [
    "# RMSE\n",
    "def calc_rmse(x1, x2, x3, y1, y2, y3):\n",
    "    return (np.sqrt((np.pow(x1-y1,2) + np.pow(x2-y2,2) + np.pow(x3-y3,2))/2))"
   ]
  },
  {
   "cell_type": "markdown",
   "id": "b80338f8-8d76-4eae-94a3-7edb8592a222",
   "metadata": {},
   "source": [
    "# Mosaic Functions"
   ]
  },
  {
   "cell_type": "code",
   "execution_count": 5,
   "id": "6ff28bac-73f6-4692-bc07-2b5b80b5ac71",
   "metadata": {},
   "outputs": [],
   "source": [
    "def find_nearest_img(r, g, b, data, dist):\n",
    "    least_dist = np.inf\n",
    "    least_row = None\n",
    "    \n",
    "    for row in data.values:\n",
    "        if dist == 'l1':\n",
    "            dist = calc_l1_dist(r, g, b, row[1], row[2], row[3])\n",
    "        elif dist == 'l2':\n",
    "            dist = calc_l2_dist(r, g, b, row[1], row[2], row[3])\n",
    "        elif dist == 'rmse':\n",
    "            dist = calc_rmse(r, g, b, row[1], row[2], row[3])\n",
    "\n",
    "        if dist < least_dist:\n",
    "            least_dist = dist\n",
    "            least_row = row\n",
    "            \n",
    "    file = least_row[0]\n",
    "    lowest_rgb = [[least_row[1], least_row[2], least_row[3]]]\n",
    "        \n",
    "    # # remove dupes\n",
    "    # data = data.drop(data.index[data['Filename'] == file].tolist())\n",
    "    \n",
    "    # return file, data, [[least_row[1], least_row[2], least_row[3]]], least_dist\n",
    "    return file, lowest_rgb, least_dist"
   ]
  },
  {
   "cell_type": "code",
   "execution_count": 6,
   "id": "f9d54afd-063c-401a-a133-02e333311a1e",
   "metadata": {},
   "outputs": [],
   "source": [
    "def construct_mosaic(pixel_batch, r, g, b, data, dist, duplicate):\n",
    "    # create empty matrix of target image size\n",
    "    mosaic = np.zeros((r.shape[0], r.shape[1], 3))\n",
    "    \n",
    "    target_points = np.array([[0,0,0]])\n",
    "    dist_points = np.array([[0,0,0]])\n",
    "    batch_num = 0\n",
    "    batches = [batch_num]\n",
    "    \n",
    "    total_dist = 0\n",
    "    \n",
    "    # iterate through RGB and find the closest related image\n",
    "    for x in range(0, r.shape[0], pixel_batch):\n",
    "        for y in range(0, r.shape[1], pixel_batch):\n",
    "\n",
    "            # need to handle padding issues later\n",
    "            r_batch = r[x:x+pixel_batch, y:y+pixel_batch]\n",
    "            g_batch = b[x:x+pixel_batch, y:y+pixel_batch]\n",
    "            b_batch = g[x:x+pixel_batch, y:y+pixel_batch]\n",
    "            \n",
    "            # compute batch averages\n",
    "            r_avg = np.mean(r_batch)\n",
    "            g_avg = np.mean(g_batch)\n",
    "            b_avg = np.mean(b_batch)\n",
    "            \n",
    "            # save the avg values for plotting later\n",
    "            target_points = np.append(target_points, [[r_avg, g_avg, b_avg]], axis=0)\n",
    "            \n",
    "            # find the closest image\n",
    "            # returns the filename\n",
    "            img, dist_point, least_dist = find_nearest_img(r_avg, b_avg, g_avg, data, dist)\n",
    "            \n",
    "            # remove dupes\n",
    "            if not duplicate:\n",
    "                data = data.drop(data.index[data['Filename'] == img].tolist())\n",
    "            \n",
    "            # accumulate the distance\n",
    "            total_dist += least_dist\n",
    "            \n",
    "            # save the dist values for plotting later\n",
    "            dist_points = np.append(dist_points, dist_point, axis=0)\n",
    "            \n",
    "            # extract the filename\n",
    "            img = Image.open('data/images/'+img)\n",
    "            \n",
    "            # resize the image to be the batch size\n",
    "            img = img.resize((pixel_batch, pixel_batch))#, Image.ANTIALIAS)\n",
    "            \n",
    "            # Convert to opencv image\n",
    "            img = np.array(img) \n",
    "            img = img[:, :, ::-1].copy() \n",
    "            \n",
    "            # add the image to the mosaic\n",
    "            mosaic[x:x+pixel_batch, y:y+pixel_batch, 0] = img[:,:,2]\n",
    "            mosaic[x:x+pixel_batch, y:y+pixel_batch, 1] = img[:,:,1]\n",
    "            mosaic[x:x+pixel_batch, y:y+pixel_batch, 2] = img[:,:,0]\n",
    "            \n",
    "            batches.append(batch_num)\n",
    "            batch_num += 1\n",
    "    \n",
    "    mosaic = Image.fromarray(mosaic.astype(np.uint8))\n",
    "    return mosaic, target_points, dist_points, batches, total_dist"
   ]
  },
  {
   "cell_type": "code",
   "execution_count": 7,
   "id": "9a58b5d9-5fc3-4e4a-9075-1d0a23dd7ac4",
   "metadata": {},
   "outputs": [],
   "source": [
    "#read in the target image and divide it into RGB channels\n",
    "def extract_rgb(target):\n",
    "    image = cv2.imread(target)\n",
    "    b,g,r = cv2.split(image)\n",
    "    \n",
    "    return[r, g, b]"
   ]
  },
  {
   "cell_type": "markdown",
   "id": "89d909b5-4286-4931-853b-c923720e1feb",
   "metadata": {},
   "source": [
    "# Result Handlers"
   ]
  },
  {
   "cell_type": "code",
   "execution_count": 8,
   "id": "62e9527a-00b5-43e8-beda-b27d40d793fa",
   "metadata": {},
   "outputs": [],
   "source": [
    "def extract_targets_predicted(target_points, dist_points, color_idx):\n",
    "    targets = target_points[:,color_idx]\n",
    "    predicted = dist_points[:,color_idx]\n",
    "    \n",
    "    return targets, predicted"
   ]
  },
  {
   "cell_type": "code",
   "execution_count": 9,
   "id": "fc7647e0-54cb-49c4-ad41-fbca0487c69e",
   "metadata": {},
   "outputs": [],
   "source": [
    "def plot(figure_title_size, subplot_title_size, axis_title_size, bin_range, figure_title, x_axis, y_axis, points, colors, filename, subplot_names):\n",
    "    fig, axes = plt.subplots(nrows=3, ncols=2, figsize=(12, 8))\n",
    "    fig.suptitle(figure_title, fontsize=figure_title_size)\n",
    "    \n",
    "    for row in range(len(axes)):\n",
    "        for col in range(len(axes[row])):\n",
    "            axes[row][col].hist(x=points[row,col], bins=bin_range, color=colors[row]);\n",
    "            axes[row][col].set_title(subplot_names[row,col], fontsize=subplot_title_size)\n",
    "            axes[row][col].set_xlabel(x_axis, fontsize=axis_title_size)  \n",
    "            axes[row][col].set_ylabel(y_axis, fontsize=axis_title_size)\n",
    "            axes[row][col].set_xticks(np.arange(0, 255, 20.0));\n",
    "    fig.tight_layout()\n",
    "    plt.savefig(filename)\n",
    "    return plt"
   ]
  },
  {
   "cell_type": "code",
   "execution_count": 10,
   "id": "06f175fd-3a5b-4596-b9ba-b44359770661",
   "metadata": {},
   "outputs": [],
   "source": [
    "def parse_results(filename, figure_title):\n",
    "    r_targets, r_predicted = extract_targets_predicted(target_points, dist_points, 0)\n",
    "    g_targets, g_predicted = extract_targets_predicted(target_points, dist_points, 1)\n",
    "    b_targets, b_predicted = extract_targets_predicted(target_points, dist_points, 2)\n",
    "    \n",
    "    figure_title_size=20\n",
    "    subplot_title_size = 16\n",
    "    axis_title_size = 13\n",
    "    bin_range = list(range(0, 255))\n",
    "    x_axis = 'Pixel Intensity'\n",
    "    y_axis = '# of Pixels'\n",
    "\n",
    "    points = np.array([[r_targets, r_predicted],\n",
    "                       [g_targets, g_predicted],\n",
    "                       [b_targets, b_predicted]])\n",
    "\n",
    "    subplot_names = np.array([['Target R', 'Predicted R'],\n",
    "                              ['Target G', 'Predicted G'],\n",
    "                              ['Target B', 'Predicted B']])\n",
    "\n",
    "    colors = ['darkred', 'darkgreen', 'darkblue']\n",
    "\n",
    "    results = plot(figure_title_size, subplot_title_size, axis_title_size, bin_range, figure_title, x_axis, y_axis, points, colors, filename, subplot_names)\n",
    "    results.show()"
   ]
  },
  {
   "cell_type": "code",
   "execution_count": 11,
   "id": "b8e8e00a-673e-4b28-a9fd-b4145b0b245f",
   "metadata": {},
   "outputs": [
    {
     "data": {
      "text/html": [
       "<div>\n",
       "<style scoped>\n",
       "    .dataframe tbody tr th:only-of-type {\n",
       "        vertical-align: middle;\n",
       "    }\n",
       "\n",
       "    .dataframe tbody tr th {\n",
       "        vertical-align: top;\n",
       "    }\n",
       "\n",
       "    .dataframe thead th {\n",
       "        text-align: right;\n",
       "    }\n",
       "</style>\n",
       "<table border=\"1\" class=\"dataframe\">\n",
       "  <thead>\n",
       "    <tr style=\"text-align: right;\">\n",
       "      <th></th>\n",
       "      <th>Filename</th>\n",
       "      <th>R Average</th>\n",
       "      <th>G Average</th>\n",
       "      <th>B Average</th>\n",
       "    </tr>\n",
       "  </thead>\n",
       "  <tbody>\n",
       "    <tr>\n",
       "      <th>0</th>\n",
       "      <td>cifar_train_43545.jpeg</td>\n",
       "      <td>100.512695</td>\n",
       "      <td>103.308594</td>\n",
       "      <td>101.376953</td>\n",
       "    </tr>\n",
       "    <tr>\n",
       "      <th>1</th>\n",
       "      <td>cifar_train_26037.jpeg</td>\n",
       "      <td>160.252930</td>\n",
       "      <td>143.880859</td>\n",
       "      <td>98.750977</td>\n",
       "    </tr>\n",
       "    <tr>\n",
       "      <th>2</th>\n",
       "      <td>2333608.jpg</td>\n",
       "      <td>105.528021</td>\n",
       "      <td>117.531968</td>\n",
       "      <td>126.741077</td>\n",
       "    </tr>\n",
       "    <tr>\n",
       "      <th>3</th>\n",
       "      <td>cifar_test_8149.jpeg</td>\n",
       "      <td>83.702148</td>\n",
       "      <td>84.632812</td>\n",
       "      <td>63.346680</td>\n",
       "    </tr>\n",
       "    <tr>\n",
       "      <th>4</th>\n",
       "      <td>cifar_train_5736.jpeg</td>\n",
       "      <td>83.691406</td>\n",
       "      <td>92.091797</td>\n",
       "      <td>43.776367</td>\n",
       "    </tr>\n",
       "    <tr>\n",
       "      <th>...</th>\n",
       "      <td>...</td>\n",
       "      <td>...</td>\n",
       "      <td>...</td>\n",
       "      <td>...</td>\n",
       "    </tr>\n",
       "    <tr>\n",
       "      <th>94228</th>\n",
       "      <td>cifar_test_9995.jpeg</td>\n",
       "      <td>93.085938</td>\n",
       "      <td>123.327148</td>\n",
       "      <td>83.829102</td>\n",
       "    </tr>\n",
       "    <tr>\n",
       "      <th>94229</th>\n",
       "      <td>cifar_test_9996.jpeg</td>\n",
       "      <td>120.177734</td>\n",
       "      <td>132.110352</td>\n",
       "      <td>79.393555</td>\n",
       "    </tr>\n",
       "    <tr>\n",
       "      <th>94230</th>\n",
       "      <td>cifar_test_9997.jpeg</td>\n",
       "      <td>75.832031</td>\n",
       "      <td>106.240234</td>\n",
       "      <td>64.107422</td>\n",
       "    </tr>\n",
       "    <tr>\n",
       "      <th>94231</th>\n",
       "      <td>cifar_test_9998.jpeg</td>\n",
       "      <td>104.074219</td>\n",
       "      <td>95.823242</td>\n",
       "      <td>79.599609</td>\n",
       "    </tr>\n",
       "    <tr>\n",
       "      <th>94232</th>\n",
       "      <td>cifar_test_9999.jpeg</td>\n",
       "      <td>143.360352</td>\n",
       "      <td>93.695312</td>\n",
       "      <td>84.158203</td>\n",
       "    </tr>\n",
       "  </tbody>\n",
       "</table>\n",
       "<p>94233 rows × 4 columns</p>\n",
       "</div>"
      ],
      "text/plain": [
       "                     Filename   R Average   G Average   B Average\n",
       "0      cifar_train_43545.jpeg  100.512695  103.308594  101.376953\n",
       "1      cifar_train_26037.jpeg  160.252930  143.880859   98.750977\n",
       "2                 2333608.jpg  105.528021  117.531968  126.741077\n",
       "3        cifar_test_8149.jpeg   83.702148   84.632812   63.346680\n",
       "4       cifar_train_5736.jpeg   83.691406   92.091797   43.776367\n",
       "...                       ...         ...         ...         ...\n",
       "94228    cifar_test_9995.jpeg   93.085938  123.327148   83.829102\n",
       "94229    cifar_test_9996.jpeg  120.177734  132.110352   79.393555\n",
       "94230    cifar_test_9997.jpeg   75.832031  106.240234   64.107422\n",
       "94231    cifar_test_9998.jpeg  104.074219   95.823242   79.599609\n",
       "94232    cifar_test_9999.jpeg  143.360352   93.695312   84.158203\n",
       "\n",
       "[94233 rows x 4 columns]"
      ]
     },
     "execution_count": 11,
     "metadata": {},
     "output_type": "execute_result"
    }
   ],
   "source": [
    "rgb_data = pd.read_csv('data/avg_database.csv')\n",
    "rgb_data"
   ]
  },
  {
   "cell_type": "markdown",
   "id": "81625f17-9670-47b2-b36f-a926e2581a8e",
   "metadata": {},
   "source": [
    "# NO REPEATS"
   ]
  },
  {
   "cell_type": "code",
   "execution_count": null,
   "id": "fe763502-b9d3-4c3c-81a1-b1b552439ab6",
   "metadata": {},
   "outputs": [],
   "source": [
    "pixel_batch = 10\n",
    "data = rgb_data.copy()\n",
    "target = 'data/target.jpg'\n",
    "\n",
    "r,g,b = extract_rgb(target)\n",
    "image, target_points, dist_points, batches, total_dist = construct_mosaic(pixel_batch, r, g, b, data, 'l1', duplicate=False)\n",
    "# image.show()\n",
    "image.save('data/target_norepeats_pb10_l1.jpg')\n",
    "print('Total Distance of all points: ' + str(total_dist))\n",
    "\n",
    "filename='data/figures/L1_pb10_norepeats.png'\n",
    "figure_title = 'Target and Predicted Pixel Values using L1 Distance'\n",
    "parse_results(filename, figure_title)"
   ]
  },
  {
   "cell_type": "code",
   "execution_count": null,
   "id": "f33434f3-17b8-40e3-a275-f4d37ff811e4",
   "metadata": {},
   "outputs": [],
   "source": [
    "pixel_batch = 10\n",
    "data = rgb_data.copy()\n",
    "target = 'data/target.jpg'\n",
    "\n",
    "r,g,b = extract_rgb(target)\n",
    "image, target_points, dist_points, batches, total_dist = construct_mosaic(pixel_batch, r, g, b, data, 'l2', duplicate=False)\n",
    "# image.show()\n",
    "image.save('data/target_norepeats_pb10_l2.jpg')\n",
    "print('Total Distance of all points: ' + str(total_dist))\n",
    "\n",
    "filename='data/figures/L2_pb10_norepeats.png'\n",
    "figure_title = 'Target and Predicted Pixel Values using L2 Distance'\n",
    "parse_results(filename, figure_title)"
   ]
  },
  {
   "cell_type": "code",
   "execution_count": null,
   "id": "bd3242ec-6b58-4fbb-992a-06ead9f20a4c",
   "metadata": {},
   "outputs": [],
   "source": [
    "pixel_batch = 10\n",
    "data = rgb_data.copy()\n",
    "target = 'data/target.jpg'\n",
    "\n",
    "r,g,b = extract_rgb(target)\n",
    "image, target_points, dist_points, batches, total_dist = construct_mosaic(pixel_batch, r, g, b, data, 'rmse', duplicate=False)\n",
    "# image.show()\n",
    "image.save('data/target_norepeats_pb10_rmse.jpg')\n",
    "print('Total Distance of all points: ' + str(total_dist))\n",
    "\n",
    "filename='data/figures/rmse_pb10_norepeats.png'\n",
    "figure_title = 'Target and Predicted Pixel Values using RMSE'\n",
    "parse_results(filename, figure_title)"
   ]
  },
  {
   "cell_type": "markdown",
   "id": "89aa6d1c-b3b9-47d3-b7bb-499d37afe7ab",
   "metadata": {},
   "source": [
    "# REPEATS"
   ]
  },
  {
   "cell_type": "code",
   "execution_count": null,
   "id": "650a0bf9-819e-4639-9679-43fa453bc5b0",
   "metadata": {},
   "outputs": [],
   "source": [
    "pixel_batch = 10\n",
    "data = rgb_data.copy()\n",
    "target = 'data/target.jpg'\n",
    "\n",
    "r,g,b = extract_rgb(target)\n",
    "image, target_points, dist_points, batches, total_dist = construct_mosaic(pixel_batch, r, g, b, data, 'l1', duplicate=True)\n",
    "# image.show()\n",
    "image.save('data/target_repeats_pb10_l1.jpg')\n",
    "print('Total Distance of all points: ' + str(total_dist))\n",
    "\n",
    "filename='data/figures/L1_pb10_repeats.png'\n",
    "figure_title = 'Target and Predicted Pixel Values using L1 Distance (Repeating Images)'\n",
    "parse_results(filename, figure_title)"
   ]
  },
  {
   "cell_type": "code",
   "execution_count": null,
   "id": "e6cdd41f-293f-466a-8743-3fef6c350fa8",
   "metadata": {},
   "outputs": [],
   "source": [
    "pixel_batch = 10\n",
    "data = rgb_data.copy()\n",
    "target = 'data/target.jpg'\n",
    "\n",
    "r,g,b = extract_rgb(target)\n",
    "image, target_points, dist_points, batches, total_dist = construct_mosaic(pixel_batch, r, g, b, data, 'l2', duplicate=True)\n",
    "# image.show()\n",
    "image.save('data/target_repeats_pb10_l2.jpg')\n",
    "print('Total Distance of all points: ' + str(total_dist))\n",
    "\n",
    "filename='data/figures/L2_pb10_repeats.png'\n",
    "figure_title = 'Target and Predicted Pixel Values using L2 Distance (Repeating Images)'\n",
    "parse_results(filename, figure_title)"
   ]
  },
  {
   "cell_type": "code",
   "execution_count": null,
   "id": "1b0c433d-d339-4ec3-a3d3-182b36b2a432",
   "metadata": {},
   "outputs": [],
   "source": [
    "pixel_batch = 10\n",
    "data = rgb_data.copy()\n",
    "target = 'data/target.jpg'\n",
    "\n",
    "r,g,b = extract_rgb(target)\n",
    "image, target_points, dist_points, batches, total_dist = construct_mosaic(pixel_batch, r, g, b, data, 'rmse', duplicate=True)\n",
    "# image.show()\n",
    "image.save('data/target_repeats_pb10_rmse.jpg')\n",
    "print('Total Distance of all points: ' + str(total_dist))\n",
    "\n",
    "filename='data/figures/rmse_pb10_repeats.png'\n",
    "figure_title = 'Target and Predicted Pixel Values using RMSE (Repeating Images)'\n",
    "parse_results(filename, figure_title)"
   ]
  },
  {
   "cell_type": "markdown",
   "id": "98640156-de4f-4a58-909e-525a54308700",
   "metadata": {
    "tags": []
   },
   "source": [
    "# Frame Compiler"
   ]
  },
  {
   "cell_type": "code",
   "execution_count": null,
   "id": "eabf2220-9ad4-47ef-8d4a-99b52111d162",
   "metadata": {},
   "outputs": [],
   "source": [
    "# pixel_batch = 10\n",
    "# video_frames = 'data/videos/bunny_frames/frame'\n",
    "# mosaic_frames = 'data/videos/mosaic_bunny_frames/frame'\n",
    "# # frames = [1,2,4,5,6,7,10]\n",
    "# # frames = [31,32,33,34,35,36,37,38,39,40]\n",
    "# ext = '.jpg'\n",
    "# total_frames = len(frames)#len(os.listdir(video_frames))\n",
    "# regex = re.compile(r'\\d+')\n",
    "\n",
    "# # print('Total Frames: ', total_frames)\n",
    "\n",
    "# # for frame in os.listdir(video_frames):\n",
    "# # for frame in frames:\n",
    "# for frame in range(201,251):\n",
    "#     # recopy the saved rgb avg data because images are removed from the copy when used\n",
    "#     data = rgb_data.copy()\n",
    "    \n",
    "#     # the path to the frame\n",
    "#     file =  video_frames + str(frame) + ext\n",
    "    \n",
    "#     # extract RGB from the frame\n",
    "#     r,g,b = extract_rgb(file)\n",
    "    \n",
    "#     # construct a mosaic for the frame\n",
    "#     image = construct_mosaic(pixel_batch, r, g, b, data)\n",
    "    \n",
    "#     # retrieve the frame number from the file name and\n",
    "#     # save the mosaic frame with the same frame number\n",
    "#     # frame_num = regex.findall(frame)[0]\n",
    "#     # image.save('data/videos/mosaic_bunny_frames/frame%d.jpg' % int(frame_num))\n",
    "#     image.save(mosaic_frames + str(frame) + ext)\n",
    "    \n",
    "#     # inform the operator of the current progress\n",
    "#     print('Processed frame {f}'.format(f=frame))"
   ]
  },
  {
   "cell_type": "code",
   "execution_count": null,
   "id": "077177cb-cadb-463b-a500-32bd97614722",
   "metadata": {},
   "outputs": [],
   "source": [
    "# to test:\n",
    "#     - threshold speed up\n",
    "#     - use prev frame to determine if batch image should change\n",
    "#     - padding\n",
    "#     - RMSE and L1\n",
    "#     - rather than using sub images, could you use parts of images to create the mosaic and get the original image?"
   ]
  },
  {
   "cell_type": "code",
   "execution_count": null,
   "id": "85c8a213-522f-4237-8445-e8af815562a7",
   "metadata": {},
   "outputs": [],
   "source": []
  }
 ],
 "metadata": {
  "kernelspec": {
   "display_name": "video_mosaic",
   "language": "python",
   "name": "video_mosaic"
  },
  "language_info": {
   "codemirror_mode": {
    "name": "ipython",
    "version": 3
   },
   "file_extension": ".py",
   "mimetype": "text/x-python",
   "name": "python",
   "nbconvert_exporter": "python",
   "pygments_lexer": "ipython3",
   "version": "3.9.12"
  }
 },
 "nbformat": 4,
 "nbformat_minor": 5
}
