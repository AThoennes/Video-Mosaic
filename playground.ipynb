{
 "cells": [
  {
   "cell_type": "code",
   "execution_count": 49,
   "id": "f2756683-f90c-4466-b7ff-efbfd405deb1",
   "metadata": {},
   "outputs": [],
   "source": [
    "import cv2\n",
    "import os\n",
    "from PIL import Image\n",
    "import tensorflow as tf\n",
    "from tensorflow import keras\n",
    "import re\n",
    "import numpy as np\n",
    "from PIL import ImageFilter"
   ]
  },
  {
   "cell_type": "code",
   "execution_count": null,
   "id": "f97af218-410b-491f-b178-64b3842b50e4",
   "metadata": {},
   "outputs": [],
   "source": [
    "vidcap = cv2.VideoCapture('data/videos/bunny.mp4')\n",
    "success,image = vidcap.read()\n",
    "count = 0\n",
    "\n",
    "while success:\n",
    "    cv2.imwrite(\"data/videos/bunny_frames/frame%d.jpg\" % count, image)     # save frame as JPEG file      \n",
    "    success,image = vidcap.read()\n",
    "    # print('Read a new frame: ', success)\n",
    "    count += 1"
   ]
  },
  {
   "cell_type": "code",
   "execution_count": null,
   "id": "24990067-b13d-4558-8adb-a3e37b418cac",
   "metadata": {},
   "outputs": [],
   "source": [
    "for frame in os.listdir('data/videos/bunny_frames/'):\n",
    "    print(frame)"
   ]
  },
  {
   "cell_type": "code",
   "execution_count": null,
   "id": "b7c93c9b-8afc-4db9-bda0-44e473b687d6",
   "metadata": {},
   "outputs": [],
   "source": [
    "img = Image.open('data/videos/bunny_frames/frame1.jpg')\n",
    "img.show()\n",
    "print(img.size)"
   ]
  },
  {
   "cell_type": "code",
   "execution_count": 57,
   "id": "04c8bbe0-e43e-43c1-850e-08334a8db55d",
   "metadata": {},
   "outputs": [
    {
     "name": "stdout",
     "output_type": "stream",
     "text": [
      "(50000, 32, 32, 3)\n",
      "(10000, 32, 32, 3)\n",
      "50000\n"
     ]
    }
   ],
   "source": [
    "(x_train, y_train), (x_test, y_test) = keras.datasets.cifar100.load_data()\n",
    "print(x_train.shape)\n",
    "print(x_test.shape)\n",
    "\n",
    "# im = Image.fromarray(np.uint8(x_train[0, :, :, :]))\n",
    "# im.show()\n",
    "# b = im.resize((50,50))\n",
    "# b.show()\n",
    "\n",
    "# for row in x_train:\n",
    "#     img = Image.fromarray(np.uint8(row))\n",
    "#     r,g,b = img.split()\n",
    "    \n",
    "print(x_train.shape[0])"
   ]
  },
  {
   "cell_type": "code",
   "execution_count": 29,
   "id": "2be3e4e3-879e-40e4-9ae5-b8d70afc82c3",
   "metadata": {},
   "outputs": [
    {
     "name": "stdout",
     "output_type": "stream",
     "text": [
      "99\n",
      "<class 'str'>\n"
     ]
    }
   ],
   "source": [
    "regex = re.compile(r'\\d+')\n",
    "frame = \"frame99.jpg\"\n",
    "frame_num = regex.findall(frame)[0]\n",
    "print(frame_num)\n",
    "print(type(frame_num))"
   ]
  },
  {
   "cell_type": "code",
   "execution_count": null,
   "id": "7b52828b-90c7-4b3c-bff1-9b643ec811f9",
   "metadata": {},
   "outputs": [],
   "source": []
  }
 ],
 "metadata": {
  "kernelspec": {
   "display_name": "video_mosaic",
   "language": "python",
   "name": "video_mosaic"
  },
  "language_info": {
   "codemirror_mode": {
    "name": "ipython",
    "version": 3
   },
   "file_extension": ".py",
   "mimetype": "text/x-python",
   "name": "python",
   "nbconvert_exporter": "python",
   "pygments_lexer": "ipython3",
   "version": "3.9.12"
  }
 },
 "nbformat": 4,
 "nbformat_minor": 5
}
