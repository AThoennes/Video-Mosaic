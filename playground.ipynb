{
 "cells": [
  {
   "cell_type": "code",
   "execution_count": 17,
   "id": "f2756683-f90c-4466-b7ff-efbfd405deb1",
   "metadata": {},
   "outputs": [],
   "source": [
    "import cv2\n",
    "import os\n",
    "from PIL import Image\n",
    "import tensorflow as tf\n",
    "from tensorflow import keras\n",
    "import re\n",
    "import numpy as np\n",
    "from PIL import ImageFilter\n",
    "import pandas as pd"
   ]
  },
  {
   "cell_type": "code",
   "execution_count": null,
   "id": "f97af218-410b-491f-b178-64b3842b50e4",
   "metadata": {},
   "outputs": [],
   "source": [
    "vidcap = cv2.VideoCapture('data/videos/bunny.mp4')\n",
    "success,image = vidcap.read()\n",
    "count = 0\n",
    "\n",
    "while success:\n",
    "    cv2.imwrite(\"data/videos/bunny_frames/frame%d.jpg\" % count, image)     # save frame as JPEG file      \n",
    "    success,image = vidcap.read()\n",
    "    # print('Read a new frame: ', success)\n",
    "    count += 1"
   ]
  },
  {
   "cell_type": "code",
   "execution_count": null,
   "id": "24990067-b13d-4558-8adb-a3e37b418cac",
   "metadata": {},
   "outputs": [],
   "source": [
    "for frame in os.listdir('data/videos/bunny_frames/'):\n",
    "    print(frame)"
   ]
  },
  {
   "cell_type": "code",
   "execution_count": null,
   "id": "b7c93c9b-8afc-4db9-bda0-44e473b687d6",
   "metadata": {},
   "outputs": [],
   "source": [
    "img = Image.open('data/videos/bunny_frames/frame1.jpg')\n",
    "img.show()\n",
    "print(img.size)"
   ]
  },
  {
   "cell_type": "code",
   "execution_count": 57,
   "id": "04c8bbe0-e43e-43c1-850e-08334a8db55d",
   "metadata": {},
   "outputs": [
    {
     "name": "stdout",
     "output_type": "stream",
     "text": [
      "(50000, 32, 32, 3)\n",
      "(10000, 32, 32, 3)\n",
      "50000\n"
     ]
    }
   ],
   "source": [
    "(x_train, y_train), (x_test, y_test) = keras.datasets.cifar100.load_data()\n",
    "print(x_train.shape)\n",
    "print(x_test.shape)\n",
    "\n",
    "# im = Image.fromarray(np.uint8(x_train[0, :, :, :]))\n",
    "# im.show()\n",
    "# b = im.resize((50,50))\n",
    "# b.show()\n",
    "\n",
    "# for row in x_train:\n",
    "#     img = Image.fromarray(np.uint8(row))\n",
    "#     r,g,b = img.split()\n",
    "    \n",
    "print(x_train.shape[0])"
   ]
  },
  {
   "cell_type": "code",
   "execution_count": 29,
   "id": "2be3e4e3-879e-40e4-9ae5-b8d70afc82c3",
   "metadata": {},
   "outputs": [
    {
     "name": "stdout",
     "output_type": "stream",
     "text": [
      "99\n",
      "<class 'str'>\n"
     ]
    }
   ],
   "source": [
    "regex = re.compile(r'\\d+')\n",
    "frame = \"frame99.jpg\"\n",
    "frame_num = regex.findall(frame)[0]\n",
    "print(frame_num)\n",
    "print(type(frame_num))"
   ]
  },
  {
   "cell_type": "code",
   "execution_count": 32,
   "id": "beaea422-7dc9-4e7e-a428-da257f1a6700",
   "metadata": {},
   "outputs": [
    {
     "name": "stderr",
     "output_type": "stream",
     "text": [
      "ffmpeg version 4.2.2 Copyright (c) 2000-2019 the FFmpeg developers\n",
      "  built with gcc 7.3.0 (crosstool-NG 1.23.0.449-a04d0)\n",
      "  configuration: --prefix=/home/alex/anaconda3/envs/video_mosaic --cc=/tmp/build/80754af9/ffmpeg_1587154242452/_build_env/bin/x86_64-conda_cos6-linux-gnu-cc --disable-doc --enable-avresample --enable-gmp --enable-hardcoded-tables --enable-libfreetype --enable-libvpx --enable-pthreads --enable-libopus --enable-postproc --enable-pic --enable-pthreads --enable-shared --enable-static --enable-version3 --enable-zlib --enable-libmp3lame --disable-nonfree --enable-gpl --enable-gnutls --disable-openssl --enable-libopenh264 --enable-libx264\n",
      "  libavutil      56. 31.100 / 56. 31.100\n",
      "  libavcodec     58. 54.100 / 58. 54.100\n",
      "  libavformat    58. 29.100 / 58. 29.100\n",
      "  libavdevice    58.  8.100 / 58.  8.100\n",
      "  libavfilter     7. 57.100 /  7. 57.100\n",
      "  libavresample   4.  0.  0 /  4.  0.  0\n",
      "  libswscale      5.  5.100 /  5.  5.100\n",
      "  libswresample   3.  5.100 /  3.  5.100\n",
      "  libpostproc    55.  5.100 / 55.  5.100\n",
      "Input #0, image2, from './data/videos/mosaic_bunny_frames/frame%d.jpg':\n",
      "  Duration: 00:00:00.67, start: 0.000000, bitrate: N/A\n",
      "    Stream #0:0: Video: mjpeg (Baseline), yuvj420p(pc, bt470bg/unknown/unknown), 1280x720 [SAR 1:1 DAR 16:9], 24 fps, 24 tbr, 24 tbn, 24 tbc\n",
      "Stream mapping:\n",
      "  Stream #0:0 -> #0:0 (mjpeg (native) -> h264 (libx264))\n",
      "Press [q] to stop, [?] for help\n",
      "[libx264 @ 0x55f1af659c00] using SAR=1/1\n",
      "[libx264 @ 0x55f1af659c00] using cpu capabilities: MMX2 SSE2Fast SSSE3 SSE4.2 AVX FMA3 BMI2 AVX2\n",
      "[libx264 @ 0x55f1af659c00] profile High, level 3.1, 4:2:0, 8-bit\n",
      "[libx264 @ 0x55f1af659c00] 264 - core 157 - H.264/MPEG-4 AVC codec - Copyleft 2003-2018 - http://www.videolan.org/x264.html - options: cabac=1 ref=3 deblock=1:0:0 analyse=0x3:0x113 me=hex subme=7 psy=1 psy_rd=1.00:0.00 mixed_ref=1 me_range=16 chroma_me=1 trellis=1 8x8dct=1 cqm=0 deadzone=21,11 fast_pskip=1 chroma_qp_offset=-2 threads=22 lookahead_threads=3 sliced_threads=0 nr=0 decimate=1 interlaced=0 bluray_compat=0 constrained_intra=0 bframes=3 b_pyramid=2 b_adapt=1 b_bias=0 direct=1 weightb=1 open_gop=0 weightp=2 keyint=250 keyint_min=24 scenecut=40 intra_refresh=0 rc_lookahead=40 rc=crf mbtree=1 crf=23.0 qcomp=0.60 qpmin=0 qpmax=69 qpstep=4 ip_ratio=1.40 aq=1:1.00\n",
      "Output #0, mp4, to 'output.mp4':\n",
      "  Metadata:\n",
      "    encoder         : Lavf58.29.100\n",
      "    Stream #0:0: Video: h264 (libx264) (avc1 / 0x31637661), yuvj420p(pc), 1280x720 [SAR 1:1 DAR 16:9], q=-1--1, 24 fps, 12288 tbn, 24 tbc\n",
      "    Metadata:\n",
      "      encoder         : Lavc58.54.100 libx264\n",
      "    Side data:\n",
      "      cpb: bitrate max/min/avg: 0/0/0 buffer size: 0 vbv_delay: -1\n",
      "frame=   16 fps=8.7 q=-1.0 Lsize=    2664kB time=00:00:00.54 bitrate=40285.6kbits/s speed=0.294x    \n",
      "video:2663kB audio:0kB subtitle:0kB other streams:0kB global headers:0kB muxing overhead: 0.038723%\n",
      "[libx264 @ 0x55f1af659c00] frame I:1     Avg QP:29.62  size:313186\n",
      "[libx264 @ 0x55f1af659c00] frame P:4     Avg QP:31.92  size:227242\n",
      "[libx264 @ 0x55f1af659c00] frame B:11    Avg QP:32.32  size:136745\n",
      "[libx264 @ 0x55f1af659c00] consecutive B-frames:  6.2%  0.0% 18.8% 75.0%\n",
      "[libx264 @ 0x55f1af659c00] mb I  I16..4:  0.0% 95.1%  4.9%\n",
      "[libx264 @ 0x55f1af659c00] mb P  I16..4:  0.0% 60.8%  3.1%  P16..4: 10.4%  8.6% 11.5%  0.0%  0.0%    skip: 5.6%\n",
      "[libx264 @ 0x55f1af659c00] mb B  I16..4:  0.0%  9.9%  9.2%  B16..8: 21.1% 14.5% 19.1%  direct: 7.5%  skip:18.6%  L0:47.4% L1:36.6% BI:16.0%\n",
      "[libx264 @ 0x55f1af659c00] 8x8 transform intra:79.1% inter:52.3%\n",
      "[libx264 @ 0x55f1af659c00] coded y,uvDC,uvAC intra: 100.0% 98.9% 94.8% inter: 44.9% 59.0% 51.4%\n",
      "[libx264 @ 0x55f1af659c00] i8 v,h,dc,ddl,ddr,vr,hd,vl,hu: 13% 18% 20%  6%  7%  7%  8%  8% 12%\n",
      "[libx264 @ 0x55f1af659c00] i4 v,h,dc,ddl,ddr,vr,hd,vl,hu: 14% 17% 14%  7%  8%  9%  9%  9% 13%\n",
      "[libx264 @ 0x55f1af659c00] i8c dc,h,v,p: 63% 16% 11% 10%\n",
      "[libx264 @ 0x55f1af659c00] Weighted P-Frames: Y:0.0% UV:0.0%\n",
      "[libx264 @ 0x55f1af659c00] ref P L0: 66.6%  5.6% 15.5% 12.2%\n",
      "[libx264 @ 0x55f1af659c00] ref B L0: 77.4% 16.6%  6.0%\n",
      "[libx264 @ 0x55f1af659c00] ref B L1: 92.9%  7.1%\n",
      "[libx264 @ 0x55f1af659c00] kb/s:32716.21\n"
     ]
    },
    {
     "data": {
      "text/plain": [
       "0"
      ]
     },
     "execution_count": 32,
     "metadata": {},
     "output_type": "execute_result"
    }
   ],
   "source": [
    "import os\n",
    "os.system('ffmpeg -framerate 24 -i ./data/videos/mosaic_bunny_frames/frame%d.jpg output.mp4')"
   ]
  },
  {
   "cell_type": "code",
   "execution_count": 31,
   "id": "59bdbacb-522a-46ed-8f03-9c0ad4e6eb64",
   "metadata": {},
   "outputs": [
    {
     "name": "stdout",
     "output_type": "stream",
     "text": [
      "35639\n",
      "[[167 177 168 ... 204 206 200]\n",
      " [165 172 168 ... 193 201 204]\n",
      " [162 170 168 ... 201 207 198]\n",
      " ...\n",
      " [ 74  73  78 ...  15  19  39]\n",
      " [ 57  62  62 ...  16  20  21]\n",
      " [ 28  42  24 ...  20  18  27]]\n"
     ]
    },
    {
     "name": "stderr",
     "output_type": "stream",
     "text": [
      "/tmp/ipykernel_1636/3701502253.py:5: DeprecationWarning: The binary mode of fromstring is deprecated, as it behaves surprisingly on unicode inputs. Use frombuffer instead\n",
      "  a = np.fromstring(row[1])\n"
     ]
    },
    {
     "ename": "ValueError",
     "evalue": "string size must be a multiple of element size",
     "output_type": "error",
     "traceback": [
      "\u001b[0;31m---------------------------------------------------------------------------\u001b[0m",
      "\u001b[0;31mValueError\u001b[0m                                Traceback (most recent call last)",
      "Input \u001b[0;32mIn [31]\u001b[0m, in \u001b[0;36m<cell line: 3>\u001b[0;34m()\u001b[0m\n\u001b[1;32m      3\u001b[0m \u001b[38;5;28;01mfor\u001b[39;00m row \u001b[38;5;129;01min\u001b[39;00m img_df\u001b[38;5;241m.\u001b[39mvalues:\n\u001b[1;32m      4\u001b[0m     \u001b[38;5;28mprint\u001b[39m(row[\u001b[38;5;241m1\u001b[39m])\n\u001b[0;32m----> 5\u001b[0m     a \u001b[38;5;241m=\u001b[39m \u001b[43mnp\u001b[49m\u001b[38;5;241;43m.\u001b[39;49m\u001b[43mfromstring\u001b[49m\u001b[43m(\u001b[49m\u001b[43mrow\u001b[49m\u001b[43m[\u001b[49m\u001b[38;5;241;43m1\u001b[39;49m\u001b[43m]\u001b[49m\u001b[43m)\u001b[49m\n\u001b[1;32m      6\u001b[0m     \u001b[38;5;28mprint\u001b[39m(a)\n\u001b[1;32m      7\u001b[0m     \u001b[38;5;28;01mbreak\u001b[39;00m\n",
      "\u001b[0;31mValueError\u001b[0m: string size must be a multiple of element size"
     ]
    }
   ],
   "source": [
    "img_df = pd.read_csv('data/image_database.csv')\n",
    "print(len(img_df))\n",
    "for row in img_df.values:\n",
    "    print(row[1])\n",
    "    a = np.fromstring(row[1])\n",
    "    print(a)\n",
    "    break"
   ]
  },
  {
   "cell_type": "code",
   "execution_count": 20,
   "id": "cb476094-0ddf-4655-ba33-387914e04a6c",
   "metadata": {},
   "outputs": [
    {
     "data": {
      "text/plain": [
       "168249"
      ]
     },
     "execution_count": 20,
     "metadata": {},
     "output_type": "execute_result"
    }
   ],
   "source": [
    "len(os.listdir('data/images/'))"
   ]
  },
  {
   "cell_type": "code",
   "execution_count": null,
   "id": "a0ed4815-95af-48a9-be23-2a1564e18db0",
   "metadata": {},
   "outputs": [],
   "source": []
  }
 ],
 "metadata": {
  "kernelspec": {
   "display_name": "video_mosaic",
   "language": "python",
   "name": "video_mosaic"
  },
  "language_info": {
   "codemirror_mode": {
    "name": "ipython",
    "version": 3
   },
   "file_extension": ".py",
   "mimetype": "text/x-python",
   "name": "python",
   "nbconvert_exporter": "python",
   "pygments_lexer": "ipython3",
   "version": "3.9.12"
  }
 },
 "nbformat": 4,
 "nbformat_minor": 5
}
