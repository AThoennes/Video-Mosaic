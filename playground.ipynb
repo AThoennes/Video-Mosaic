{
 "cells": [
  {
   "cell_type": "code",
   "execution_count": 71,
   "id": "f2756683-f90c-4466-b7ff-efbfd405deb1",
   "metadata": {},
   "outputs": [],
   "source": [
    "import cv2\n",
    "import os\n",
    "from PIL import Image\n",
    "import tensorflow as tf\n",
    "from tensorflow import keras\n",
    "import re\n",
    "import numpy as np\n",
    "from PIL import ImageFilter\n",
    "import pandas as pd\n",
    "import matplotlib.pyplot as plt"
   ]
  },
  {
   "cell_type": "code",
   "execution_count": null,
   "id": "f97af218-410b-491f-b178-64b3842b50e4",
   "metadata": {},
   "outputs": [],
   "source": [
    "vidcap = cv2.VideoCapture('data/videos/bunny.mp4')\n",
    "success,image = vidcap.read()\n",
    "count = 0\n",
    "\n",
    "while success:\n",
    "    cv2.imwrite(\"data/videos/bunny_frames/frame%d.jpg\" % count, image)     # save frame as JPEG file      \n",
    "    success,image = vidcap.read()\n",
    "    # print('Read a new frame: ', success)\n",
    "    count += 1"
   ]
  },
  {
   "cell_type": "code",
   "execution_count": null,
   "id": "24990067-b13d-4558-8adb-a3e37b418cac",
   "metadata": {},
   "outputs": [],
   "source": [
    "for frame in os.listdir('data/videos/bunny_frames/'):\n",
    "    print(frame)"
   ]
  },
  {
   "cell_type": "code",
   "execution_count": null,
   "id": "b7c93c9b-8afc-4db9-bda0-44e473b687d6",
   "metadata": {},
   "outputs": [],
   "source": [
    "img = Image.open('data/videos/bunny_frames/frame1.jpg')\n",
    "img.show()\n",
    "print(img.size)"
   ]
  },
  {
   "cell_type": "code",
   "execution_count": 57,
   "id": "04c8bbe0-e43e-43c1-850e-08334a8db55d",
   "metadata": {},
   "outputs": [
    {
     "name": "stdout",
     "output_type": "stream",
     "text": [
      "(50000, 32, 32, 3)\n",
      "(10000, 32, 32, 3)\n",
      "50000\n"
     ]
    }
   ],
   "source": [
    "(x_train, y_train), (x_test, y_test) = keras.datasets.cifar100.load_data()\n",
    "print(x_train.shape)\n",
    "print(x_test.shape)\n",
    "\n",
    "# im = Image.fromarray(np.uint8(x_train[0, :, :, :]))\n",
    "# im.show()\n",
    "# b = im.resize((50,50))\n",
    "# b.show()\n",
    "\n",
    "# for row in x_train:\n",
    "#     img = Image.fromarray(np.uint8(row))\n",
    "#     r,g,b = img.split()\n",
    "    \n",
    "print(x_train.shape[0])"
   ]
  },
  {
   "cell_type": "code",
   "execution_count": 29,
   "id": "2be3e4e3-879e-40e4-9ae5-b8d70afc82c3",
   "metadata": {},
   "outputs": [
    {
     "name": "stdout",
     "output_type": "stream",
     "text": [
      "99\n",
      "<class 'str'>\n"
     ]
    }
   ],
   "source": [
    "regex = re.compile(r'\\d+')\n",
    "frame = \"frame99.jpg\"\n",
    "frame_num = regex.findall(frame)[0]\n",
    "print(frame_num)\n",
    "print(type(frame_num))"
   ]
  },
  {
   "cell_type": "code",
   "execution_count": 84,
   "id": "beaea422-7dc9-4e7e-a428-da257f1a6700",
   "metadata": {},
   "outputs": [
    {
     "name": "stderr",
     "output_type": "stream",
     "text": [
      "ffmpeg version 4.2.2 Copyright (c) 2000-2019 the FFmpeg developers\n",
      "  built with gcc 7.3.0 (crosstool-NG 1.23.0.449-a04d0)\n",
      "  configuration: --prefix=/home/alex/anaconda3/envs/video_mosaic --cc=/tmp/build/80754af9/ffmpeg_1587154242452/_build_env/bin/x86_64-conda_cos6-linux-gnu-cc --disable-doc --enable-avresample --enable-gmp --enable-hardcoded-tables --enable-libfreetype --enable-libvpx --enable-pthreads --enable-libopus --enable-postproc --enable-pic --enable-pthreads --enable-shared --enable-static --enable-version3 --enable-zlib --enable-libmp3lame --disable-nonfree --enable-gpl --enable-gnutls --disable-openssl --enable-libopenh264 --enable-libx264\n",
      "  libavutil      56. 31.100 / 56. 31.100\n",
      "  libavcodec     58. 54.100 / 58. 54.100\n",
      "  libavformat    58. 29.100 / 58. 29.100\n",
      "  libavdevice    58.  8.100 / 58.  8.100\n",
      "  libavfilter     7. 57.100 /  7. 57.100\n",
      "  libavresample   4.  0.  0 /  4.  0.  0\n",
      "  libswscale      5.  5.100 /  5.  5.100\n",
      "  libswresample   3.  5.100 /  3.  5.100\n",
      "  libpostproc    55.  5.100 / 55.  5.100\n",
      "Input #0, image2, from './data/videos/mosaic_bunny_frames/frame%d.jpg':\n",
      "  Duration: 00:00:11.41, start: 0.000000, bitrate: N/A\n",
      "    Stream #0:0: Video: mjpeg (Baseline), yuvj420p(pc, bt470bg/unknown/unknown), 1280x720 [SAR 1:1 DAR 16:9], 22 fps, 22 tbr, 22 tbn, 22 tbc\n",
      "Stream mapping:\n",
      "  Stream #0:0 -> #0:0 (mjpeg (native) -> h264 (libx264))\n",
      "Press [q] to stop, [?] for help\n",
      "[libx264 @ 0x55c434df0e80] using SAR=1/1\n",
      "[libx264 @ 0x55c434df0e80] using cpu capabilities: MMX2 SSE2Fast SSSE3 SSE4.2 AVX FMA3 BMI2 AVX2\n",
      "[libx264 @ 0x55c434df0e80] profile High, level 3.1, 4:2:0, 8-bit\n",
      "[libx264 @ 0x55c434df0e80] 264 - core 157 - H.264/MPEG-4 AVC codec - Copyleft 2003-2018 - http://www.videolan.org/x264.html - options: cabac=1 ref=3 deblock=1:0:0 analyse=0x3:0x113 me=hex subme=7 psy=1 psy_rd=1.00:0.00 mixed_ref=1 me_range=16 chroma_me=1 trellis=1 8x8dct=1 cqm=0 deadzone=21,11 fast_pskip=1 chroma_qp_offset=-2 threads=22 lookahead_threads=3 sliced_threads=0 nr=0 decimate=1 interlaced=0 bluray_compat=0 constrained_intra=0 bframes=3 b_pyramid=2 b_adapt=1 b_bias=0 direct=1 weightb=1 open_gop=0 weightp=2 keyint=250 keyint_min=22 scenecut=40 intra_refresh=0 rc_lookahead=40 rc=crf mbtree=1 crf=23.0 qcomp=0.60 qpmin=0 qpmax=69 qpstep=4 ip_ratio=1.40 aq=1:1.00\n",
      "Output #0, mp4, to 'output.mp4':\n",
      "  Metadata:\n",
      "    encoder         : Lavf58.29.100\n",
      "    Stream #0:0: Video: h264 (libx264) (avc1 / 0x31637661), yuvj420p(pc), 1280x720 [SAR 1:1 DAR 16:9], q=-1--1, 22 fps, 11264 tbn, 22 tbc\n",
      "    Metadata:\n",
      "      encoder         : Lavc58.54.100 libx264\n",
      "    Side data:\n",
      "      cpb: bitrate max/min/avg: 0/0/0 buffer size: 0 vbv_delay: -1\n",
      "frame=  251 fps= 75 q=-1.0 Lsize=   39095kB time=00:00:11.27 bitrate=28410.2kbits/s speed=3.35x    \n",
      "video:39090kB audio:0kB subtitle:0kB other streams:0kB global headers:0kB muxing overhead: 0.010682%\n",
      "[libx264 @ 0x55c434df0e80] frame I:4     Avg QP:27.26  size:356190\n",
      "[libx264 @ 0x55c434df0e80] frame P:67    Avg QP:30.60  size:217848\n",
      "[libx264 @ 0x55c434df0e80] frame B:180   Avg QP:32.27  size:133374\n",
      "[libx264 @ 0x55c434df0e80] consecutive B-frames:  4.0%  0.8%  1.2% 94.0%\n",
      "[libx264 @ 0x55c434df0e80] mb I  I16..4:  0.0% 95.8%  4.2%\n",
      "[libx264 @ 0x55c434df0e80] mb P  I16..4:  0.0% 52.5%  4.2%  P16..4: 11.0%  9.1% 11.9%  0.0%  0.0%    skip:11.3%\n",
      "[libx264 @ 0x55c434df0e80] mb B  I16..4:  0.0% 11.1% 10.8%  B16..8: 20.0% 13.5% 17.0%  direct: 6.7%  skip:21.0%  L0:43.9% L1:41.3% BI:14.8%\n",
      "[libx264 @ 0x55c434df0e80] 8x8 transform intra:72.5% inter:50.1%\n",
      "[libx264 @ 0x55c434df0e80] coded y,uvDC,uvAC intra: 100.0% 98.0% 92.2% inter: 41.0% 51.0% 43.1%\n",
      "[libx264 @ 0x55c434df0e80] i16 v,h,dc,p:  0%  0% 50% 50%\n",
      "[libx264 @ 0x55c434df0e80] i8 v,h,dc,ddl,ddr,vr,hd,vl,hu: 13% 19% 20%  6%  7%  7%  8%  8% 12%\n",
      "[libx264 @ 0x55c434df0e80] i4 v,h,dc,ddl,ddr,vr,hd,vl,hu: 13% 17% 13%  8%  8%  9%  9%  9% 13%\n",
      "[libx264 @ 0x55c434df0e80] i8c dc,h,v,p: 62% 17% 12% 10%\n",
      "[libx264 @ 0x55c434df0e80] Weighted P-Frames: Y:0.0% UV:0.0%\n",
      "[libx264 @ 0x55c434df0e80] ref P L0: 50.9%  8.0% 23.4% 17.6%\n",
      "[libx264 @ 0x55c434df0e80] ref B L0: 76.6% 17.4%  6.1%\n",
      "[libx264 @ 0x55c434df0e80] ref B L1: 89.7% 10.3%\n",
      "[libx264 @ 0x55c434df0e80] kb/s:28067.35\n"
     ]
    },
    {
     "data": {
      "text/plain": [
       "0"
      ]
     },
     "execution_count": 84,
     "metadata": {},
     "output_type": "execute_result"
    }
   ],
   "source": [
    "import os\n",
    "os.system('ffmpeg -framerate 22 -i ./data/videos/mosaic_bunny_frames/frame%d.jpg output.mp4')"
   ]
  },
  {
   "cell_type": "code",
   "execution_count": 31,
   "id": "59bdbacb-522a-46ed-8f03-9c0ad4e6eb64",
   "metadata": {},
   "outputs": [
    {
     "name": "stdout",
     "output_type": "stream",
     "text": [
      "35639\n",
      "[[167 177 168 ... 204 206 200]\n",
      " [165 172 168 ... 193 201 204]\n",
      " [162 170 168 ... 201 207 198]\n",
      " ...\n",
      " [ 74  73  78 ...  15  19  39]\n",
      " [ 57  62  62 ...  16  20  21]\n",
      " [ 28  42  24 ...  20  18  27]]\n"
     ]
    },
    {
     "name": "stderr",
     "output_type": "stream",
     "text": [
      "/tmp/ipykernel_1636/3701502253.py:5: DeprecationWarning: The binary mode of fromstring is deprecated, as it behaves surprisingly on unicode inputs. Use frombuffer instead\n",
      "  a = np.fromstring(row[1])\n"
     ]
    },
    {
     "ename": "ValueError",
     "evalue": "string size must be a multiple of element size",
     "output_type": "error",
     "traceback": [
      "\u001b[0;31m---------------------------------------------------------------------------\u001b[0m",
      "\u001b[0;31mValueError\u001b[0m                                Traceback (most recent call last)",
      "Input \u001b[0;32mIn [31]\u001b[0m, in \u001b[0;36m<cell line: 3>\u001b[0;34m()\u001b[0m\n\u001b[1;32m      3\u001b[0m \u001b[38;5;28;01mfor\u001b[39;00m row \u001b[38;5;129;01min\u001b[39;00m img_df\u001b[38;5;241m.\u001b[39mvalues:\n\u001b[1;32m      4\u001b[0m     \u001b[38;5;28mprint\u001b[39m(row[\u001b[38;5;241m1\u001b[39m])\n\u001b[0;32m----> 5\u001b[0m     a \u001b[38;5;241m=\u001b[39m \u001b[43mnp\u001b[49m\u001b[38;5;241;43m.\u001b[39;49m\u001b[43mfromstring\u001b[49m\u001b[43m(\u001b[49m\u001b[43mrow\u001b[49m\u001b[43m[\u001b[49m\u001b[38;5;241;43m1\u001b[39;49m\u001b[43m]\u001b[49m\u001b[43m)\u001b[49m\n\u001b[1;32m      6\u001b[0m     \u001b[38;5;28mprint\u001b[39m(a)\n\u001b[1;32m      7\u001b[0m     \u001b[38;5;28;01mbreak\u001b[39;00m\n",
      "\u001b[0;31mValueError\u001b[0m: string size must be a multiple of element size"
     ]
    }
   ],
   "source": [
    "img_df = pd.read_csv('data/image_database.csv')\n",
    "print(len(img_df))\n",
    "for row in img_df.values:\n",
    "    print(row[1])\n",
    "    a = np.fromstring(row[1])\n",
    "    print(a)\n",
    "    break"
   ]
  },
  {
   "cell_type": "code",
   "execution_count": 20,
   "id": "cb476094-0ddf-4655-ba33-387914e04a6c",
   "metadata": {},
   "outputs": [
    {
     "data": {
      "text/plain": [
       "168249"
      ]
     },
     "execution_count": 20,
     "metadata": {},
     "output_type": "execute_result"
    }
   ],
   "source": [
    "len(os.listdir('data/images/'))"
   ]
  },
  {
   "cell_type": "code",
   "execution_count": 65,
   "id": "a0ed4815-95af-48a9-be23-2a1564e18db0",
   "metadata": {},
   "outputs": [
    {
     "name": "stdout",
     "output_type": "stream",
     "text": [
      "(1, 3)\n",
      "(3, 3)\n",
      "(2, 3)\n",
      "[[4 5 6]\n",
      " [7 8 9]]\n",
      "4 5 6\n",
      "7 8 9\n"
     ]
    }
   ],
   "source": [
    "target_points = np.array([[0,0,0]])\n",
    "\n",
    "print(target_points.shape)\n",
    "\n",
    "new_point = np.array([[4, 5, 6]])\n",
    "target_points = np.append(target_points, [[4,5,6]], axis=0)\n",
    "new_point = np.array([[7, 8, 9]])\n",
    "target_points = np.append(target_points, new_point, axis=0)\n",
    "\n",
    "print(target_points.shape)\n",
    "\n",
    "# target_points = np.delete(target_points, [0,0])\n",
    "target_points = target_points[1:]\n",
    "\n",
    "print(target_points.shape)\n",
    "print(target_points)\n",
    "\n",
    "for point in target_points:\n",
    "    r = point[0]\n",
    "    g = point[1]\n",
    "    b = point[2]\n",
    "    \n",
    "    print(str(r) + ' ' + str(g) + ' ' + str(b))"
   ]
  },
  {
   "cell_type": "code",
   "execution_count": 66,
   "id": "84ec04f8-037f-44ac-bf77-b2986aa49a15",
   "metadata": {},
   "outputs": [
    {
     "name": "stdout",
     "output_type": "stream",
     "text": [
      "True\n"
     ]
    }
   ],
   "source": [
    "t = 'l1'\n",
    "print(t=='l1')"
   ]
  },
  {
   "cell_type": "code",
   "execution_count": 67,
   "id": "77089821-635e-4408-8d61-63b0035038bd",
   "metadata": {},
   "outputs": [
    {
     "name": "stdout",
     "output_type": "stream",
     "text": [
      "[4 5 6]\n",
      "[7 8 9]\n"
     ]
    }
   ],
   "source": [
    "for point in range(0,len(target_points)):\n",
    "    print(target_points[point])"
   ]
  },
  {
   "cell_type": "code",
   "execution_count": 70,
   "id": "5b78248b-7886-4cc4-bc0f-f3f9eb20bee5",
   "metadata": {},
   "outputs": [
    {
     "data": {
      "text/plain": [
       "array([4, 7])"
      ]
     },
     "execution_count": 70,
     "metadata": {},
     "output_type": "execute_result"
    }
   ],
   "source": [
    "target_points[:, 0]\n"
   ]
  },
  {
   "cell_type": "code",
   "execution_count": 75,
   "id": "9e0ac069-f777-42a2-86e9-a8f318881228",
   "metadata": {},
   "outputs": [
    {
     "data": {
      "text/plain": [
       "<matplotlib.collections.PathCollection at 0x7faf3829b220>"
      ]
     },
     "execution_count": 75,
     "metadata": {},
     "output_type": "execute_result"
    },
    {
     "data": {
      "image/png": "[encoded data removed]",
      "text/plain": [
       "<Figure size 432x288 with 1 Axes>"
      ]
     },
     "metadata": {
      "needs_background": "light"
     },
     "output_type": "display_data"
    }
   ],
   "source": [
    "# red graph\n",
    "plt.scatter(target_points[:,0],target_points[:,1],color=['black','red'])"
   ]
  },
  {
   "cell_type": "code",
   "execution_count": 80,
   "id": "968a7eed-0887-494a-b24a-4d52b3449417",
   "metadata": {},
   "outputs": [
    {
     "data": {
      "text/html": [
       "<div>\n",
       "<style scoped>\n",
       "    .dataframe tbody tr th:only-of-type {\n",
       "        vertical-align: middle;\n",
       "    }\n",
       "\n",
       "    .dataframe tbody tr th {\n",
       "        vertical-align: top;\n",
       "    }\n",
       "\n",
       "    .dataframe thead th {\n",
       "        text-align: right;\n",
       "    }\n",
       "</style>\n",
       "<table border=\"1\" class=\"dataframe\">\n",
       "  <thead>\n",
       "    <tr style=\"text-align: right;\">\n",
       "      <th></th>\n",
       "      <th>0</th>\n",
       "      <th>1</th>\n",
       "      <th>2</th>\n",
       "      <th>3</th>\n",
       "    </tr>\n",
       "  </thead>\n",
       "  <tbody>\n",
       "    <tr>\n",
       "      <th>0</th>\n",
       "      <td>0.0</td>\n",
       "      <td>0.0</td>\n",
       "      <td>0.0</td>\n",
       "      <td>0.0</td>\n",
       "    </tr>\n",
       "    <tr>\n",
       "      <th>1</th>\n",
       "      <td>0.0</td>\n",
       "      <td>0.0</td>\n",
       "      <td>0.0</td>\n",
       "      <td>0.0</td>\n",
       "    </tr>\n",
       "    <tr>\n",
       "      <th>2</th>\n",
       "      <td>0.0</td>\n",
       "      <td>0.0</td>\n",
       "      <td>0.0</td>\n",
       "      <td>0.0</td>\n",
       "    </tr>\n",
       "    <tr>\n",
       "      <th>3</th>\n",
       "      <td>0.0</td>\n",
       "      <td>0.0</td>\n",
       "      <td>0.0</td>\n",
       "      <td>0.0</td>\n",
       "    </tr>\n",
       "    <tr>\n",
       "      <th>4</th>\n",
       "      <td>0.0</td>\n",
       "      <td>0.0</td>\n",
       "      <td>0.0</td>\n",
       "      <td>0.0</td>\n",
       "    </tr>\n",
       "    <tr>\n",
       "      <th>...</th>\n",
       "      <td>...</td>\n",
       "      <td>...</td>\n",
       "      <td>...</td>\n",
       "      <td>...</td>\n",
       "    </tr>\n",
       "    <tr>\n",
       "      <th>9994</th>\n",
       "      <td>0.0</td>\n",
       "      <td>0.0</td>\n",
       "      <td>0.0</td>\n",
       "      <td>0.0</td>\n",
       "    </tr>\n",
       "    <tr>\n",
       "      <th>9995</th>\n",
       "      <td>0.0</td>\n",
       "      <td>0.0</td>\n",
       "      <td>0.0</td>\n",
       "      <td>0.0</td>\n",
       "    </tr>\n",
       "    <tr>\n",
       "      <th>9996</th>\n",
       "      <td>0.0</td>\n",
       "      <td>0.0</td>\n",
       "      <td>0.0</td>\n",
       "      <td>0.0</td>\n",
       "    </tr>\n",
       "    <tr>\n",
       "      <th>9997</th>\n",
       "      <td>0.0</td>\n",
       "      <td>0.0</td>\n",
       "      <td>0.0</td>\n",
       "      <td>0.0</td>\n",
       "    </tr>\n",
       "    <tr>\n",
       "      <th>9998</th>\n",
       "      <td>0.0</td>\n",
       "      <td>0.0</td>\n",
       "      <td>0.0</td>\n",
       "      <td>0.0</td>\n",
       "    </tr>\n",
       "  </tbody>\n",
       "</table>\n",
       "<p>9999 rows × 4 columns</p>\n",
       "</div>"
      ],
      "text/plain": [
       "        0    1    2    3\n",
       "0     0.0  0.0  0.0  0.0\n",
       "1     0.0  0.0  0.0  0.0\n",
       "2     0.0  0.0  0.0  0.0\n",
       "3     0.0  0.0  0.0  0.0\n",
       "4     0.0  0.0  0.0  0.0\n",
       "...   ...  ...  ...  ...\n",
       "9994  0.0  0.0  0.0  0.0\n",
       "9995  0.0  0.0  0.0  0.0\n",
       "9996  0.0  0.0  0.0  0.0\n",
       "9997  0.0  0.0  0.0  0.0\n",
       "9998  0.0  0.0  0.0  0.0\n",
       "\n",
       "[9999 rows x 4 columns]"
      ]
     },
     "execution_count": 80,
     "metadata": {},
     "output_type": "execute_result"
    }
   ],
   "source": [
    "a = np.zeros((9999,4))\n",
    "a\n",
    "df = pd.DataFrame(a)\n",
    "df.to_pickle(\"df.pkl\")\n",
    "r =pd.read_pickle(\"df.pkl\")\n",
    "r"
   ]
  },
  {
   "cell_type": "code",
   "execution_count": null,
   "id": "c32b228a-1356-40b3-9e54-3b11a1c2cad6",
   "metadata": {},
   "outputs": [],
   "source": []
  }
 ],
 "metadata": {
  "kernelspec": {
   "display_name": "video_mosaic",
   "language": "python",
   "name": "video_mosaic"
  },
  "language_info": {
   "codemirror_mode": {
    "name": "ipython",
    "version": 3
   },
   "file_extension": ".py",
   "mimetype": "text/x-python",
   "name": "python",
   "nbconvert_exporter": "python",
   "pygments_lexer": "ipython3",
   "version": "3.9.12"
  }
 },
 "nbformat": 4,
 "nbformat_minor": 5
}
